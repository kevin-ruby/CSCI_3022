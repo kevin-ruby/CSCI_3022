{
 "cells": [
  {
   "cell_type": "markdown",
   "metadata": {},
   "source": [
    "<a id='top'></a>\n",
    "\n",
    "# Homework 5: Bootstrap, Hypothesis Testing and Regression\n",
    "***\n",
    "\n",
    "**Name**: Kevin Ruby\n",
    "\n",
    "***\n",
    "\n",
    "This assignment is due on Canvas by **11:59 PM on Friday November 22**. Your solutions to theoretical questions should be done in Markdown/MathJax directly below the associated question.  Your solutions to computational questions should include any specified Python code and results as well as written commentary on your conclusions.  Remember that you are encouraged to discuss the problems with your instructors and classmates, but **you must write all code and solutions on your own**. \n",
    "\n",
    "**NOTES**: \n",
    "\n",
    "- Any relevant data sets should be available under the **Data** module on Canvas, as well as in the zipped folder in which you obtained this assignment. \n",
    "- Do **NOT** load or use any Python packages that are not available in Anaconda 3.6. \n",
    "- Because you can technically evaluate notebook cells in a non-linear order, it's a good idea to do Kernel $\\rightarrow$ Restart & Run All as a check before submitting your solutions.  That way if we need to run your code you will know that it will work as expected. \n",
    "- It is **bad form** to make your reader interpret numerical output from your code.  If a question asks you to compute some value from the data you should show your code output **AND** write a summary of the results in Markdown directly below your code. \n",
    "- You **MUST** leave all of your notebook cells **evaluated** so the graders do not need to re-evaluate them. For 100+ students, this extra time adds up, and makes the graders' lives unnecessarily more difficult.\n",
    "- This probably goes without saying, but... For any question that asks you to calculate something, you **must show all work and justify your answers to receive credit**. Sparse or nonexistent work will receive sparse or nonexistent credit. \n",
    "- Submit only this Jupyter notebook to Canvas.  Do not compress it using tar, rar, zip, etc. \n",
    "\n",
    "---\n",
    "**Shortcuts:**  [Problem 1](#p1) | [Problem 2](#p2) | [Problem 3](#p3) | [Problem 4](#p4) \n",
    "\n",
    "---"
   ]
  },
  {
   "cell_type": "code",
   "execution_count": 2,
   "metadata": {
    "scrolled": true
   },
   "outputs": [],
   "source": [
    "import numpy as np\n",
    "import matplotlib.pyplot as plt\n",
    "import pandas as pd\n",
    "from scipy import stats \n",
    "import math\n",
    "%matplotlib inline"
   ]
  },
  {
   "cell_type": "markdown",
   "metadata": {},
   "source": [
    "---\n",
    "[Back to top](#top)\n",
    "<a id='p1'></a>\n",
    "\n",
    "### [20 points] Problem 1 - Hypothesis Testing: Knowledge Check\n",
    "\n",
    "You are working as a Data Scientist for an internet company. Your co-worker, Bob Dob, is a lovable scamp! Unfortunately, he also makes a lot of mistakes throughout the day as the two of you team up to tackle some inference work regarding your company's customers. In each case, clearly explain why Bob's hypothesis testing setup or conclusion is incorrect."
   ]
  },
  {
   "cell_type": "markdown",
   "metadata": {},
   "source": [
    "**Part A**: Bob has some data on the characteristics of customers that visited the company's website over the previous month.  He wants to perform an analysis on the proportion of last month's website visitors that bought something.  \n",
    "\n",
    "Let $X$ be the random variable describing the number of website visitors who bought something in the previous month, and suppose that the population proportion of visitors who bought something is $p$. Bob is particularly interested to see if the data suggests that more than 15% of website visitors actually buy something.  He decides to perform the test with a null hypothesis of $H_0: \\hat{p} = 0.15$. "
   ]
  },
  {
   "cell_type": "markdown",
   "metadata": {},
   "source": [
    "Bob, you should not be using $\\hat{p}$ as it implies a statistic, and here you are trying to find the **population** value!"
   ]
  },
  {
   "cell_type": "markdown",
   "metadata": {},
   "source": [
    "**Part B**: Bob decides instead to do his hypothesis test with a null hypothesis of $H_0: p > 0.15$."
   ]
  },
  {
   "cell_type": "markdown",
   "metadata": {},
   "source": [
    "Bob, no! You should be delcaring the **alternative** hypothesis to be $p > 0.15$!"
   ]
  },
  {
   "cell_type": "markdown",
   "metadata": {},
   "source": [
    "**Part C**: Finally on track with reasonable hypotheses of $H_0: p = 0.15$ and $H_1: p > 0.15$, Bob computes a normalized test-statistic of $z = -1.4$ for the sample proportion and concludes that since $z = -1.4 < 0.05$ there is sufficient statistical evidence at the $\\alpha = 0.05$ (95%) significance level that the proportion of customers who buy something is less than 15%."
   ]
  },
  {
   "cell_type": "markdown",
   "metadata": {},
   "source": [
    "Finally! But Bob, you're wrong yet again! You should not be comparing the z value to $\\alpha$. You should find a **p-value** and compare that to $\\alpha$ "
   ]
  },
  {
   "cell_type": "markdown",
   "metadata": {},
   "source": [
    "**Part D**: Bob is again conducting the hypothesis test of $H_0: p = 0.15$ and $H_1: p > 0.15$. He computes a p-value of $0.03$, and thus concludes that there is only a 3% probability that the null hypothesis is true. "
   ]
  },
  {
   "cell_type": "markdown",
   "metadata": {},
   "source": [
    "Wrong on so many levels, Bob. A p-value of 0.03 is what you should compare to alpha. Because the value is less than $\\alpha$, we can in fact reject the Null hypothesis."
   ]
  },
  {
   "cell_type": "markdown",
   "metadata": {},
   "source": [
    "---\n",
    "[Back to top](#top)\n",
    "<a id='p3'></a>\n",
    "\n",
    "### [25 points] Problem 2 - Naps vs Coffee for Memory? \n",
    "\n",
    "It is estimated that [about 75% of adults](https://www.ncbi.nlm.nih.gov/pmc/articles/PMC4997286/) in the United States drink coffee. Often, coffee is used to replace the need for sleep. It works alright, or so we think. Let's find out, in this exciting homework problem!\n",
    "\n",
    "[One recent study](https://www.sciencedirect.com/science/article/pii/S1388245703002554) investigated the effects of drinking coffee, taking a nap, and having a [\"coffee-nap\"](https://lifehacker.com/naps-vs-coffee-which-is-better-when-youre-exhausted-1730643671) - the practice of drinking some coffee *and then* having a short nap. The study broke participants up into three groups of 15 participants each, where the groups would have a nap, or have a coffee, or have a coffee-nap, then perform a task where their reaction time was measured. In previous experiments the mean reaction time measurement was found to be normally distributed. The reaction time means (milliseconds, ms) and standard deviations for the three groups of participants are given in the table below.\n",
    "\n",
    "$$\n",
    "\\begin{array}{c|c|c|c}\n",
    "\\textrm{Group} & \\textrm{Sample Size} & \\textrm{Mean} & \\textrm{Standard Deviation} \\\\\n",
    "\\hline \n",
    "\\textrm{Coffee+Nap} & 15 & 451.3 & 31.9 \\\\ \n",
    "\\textrm{Coffee} & 15 & 494.2 & 39.6 \\\\ \n",
    "\\textrm{Nap} & 15 & 492.8 & 45.2 \\\\ \n",
    "\\end{array}\n",
    "$$\n",
    "\n",
    "**Part A**: Compute a 97.5% t-confidence interval for the mean reaction time measurement for participants in each of these three groups. (You should find three separate confidence intervals.) Report the results.\n",
    "\n",
    "1. Can you make any conclusions regarding whether coffee, naps or both (coffee-naps) are better for faster reaction times?\n",
    "2. Why did we use a t-distribution?"
   ]
  },
  {
   "cell_type": "code",
   "execution_count": 301,
   "metadata": {},
   "outputs": [
    {
     "name": "stdout",
     "output_type": "stream",
     "text": [
      "T : 2.5095694114796663\n",
      "Coffee + Nap 97.5% CI = [ 430.63 , 471.97 ]\n",
      "Coffee 97.5% CI = [ 468.54 , 519.86 ]\n",
      "Nap 97.5% CI = [ 463.51 , 522.09 ]\n"
     ]
    }
   ],
   "source": [
    "t = stats.t.ppf(0.9875,14)\n",
    "print(\"T :\",t)\n",
    "rootN = math.sqrt(15)\n",
    "\n",
    "\n",
    "coffeeNap = t * (31.9/rootN)\n",
    "print(\"Coffee + Nap 97.5% CI = [\", \"%.2f\" %(451.3 - coffeeNap) , \",\" , \"%.2f\"%(451.3+coffeeNap) ,\"]\")\n",
    "\n",
    "coffee = t * (39.6/rootN)\n",
    "print(\"Coffee 97.5% CI = [\", \"%.2f\" %(494.2 - coffee) , \",\" , \"%.2f\"%(494.2+coffee) ,\"]\")\n",
    "\n",
    "nap = t * (45.2/rootN)\n",
    "print(\"Nap 97.5% CI = [\", \"%.2f\" %(492.8 - nap) , \",\" , \"%.2f\"%(492.8+nap) ,\"]\")"
   ]
  },
  {
   "cell_type": "markdown",
   "metadata": {},
   "source": [
    "- We cannot, as all the confidence intervals overlap with eachother.\n",
    "- we used a t-distribution because we had normal data, unknown $\\sigma$ and our sample size was less than 30"
   ]
  },
  {
   "cell_type": "markdown",
   "metadata": {},
   "source": [
    "**Part B**: Use an appropriate hypothesis test to determine if there sufficient evidence, at the $\\alpha = 0.025$ significance level, to conclude that taking a nap promotes faster reaction time than drinking coffee.  Be sure to clearly explain the test that you're doing and state all hypotheses. Do all computations in Python, and report results."
   ]
  },
  {
   "cell_type": "code",
   "execution_count": 5,
   "metadata": {},
   "outputs": [
    {
     "name": "stdout",
     "output_type": "stream",
     "text": [
      "t: -0.09022936362055638\n",
      "p-value: 0.4643736595047065\n"
     ]
    }
   ],
   "source": [
    "tops = (14*45.2**2) + (14*39.6**2)\n",
    "bottoms = 28\n",
    "s = math.sqrt(tops/bottoms)\n",
    "se = s * math.sqrt((1/15) + (1/15))\n",
    "t = (492.8 - 494.2)/se\n",
    "print(\"t:\", t)\n",
    "p = stats.t.cdf(t,28)\n",
    "print(\"p-value:\",p)"
   ]
  },
  {
   "cell_type": "markdown",
   "metadata": {},
   "source": [
    "- $\\mu_1$ defined as nap\n",
    "- $\\mu_2$ defined as drinking coffee\n",
    "- $H_0: \\mu_1 - \\mu_2 \\geq 0$ \n",
    "- $H_1: \\mu_1 - \\mu_2 < 0$\n",
    "$$s = \\sqrt{\\frac{(n_1-1)s_1^2 + (n_2-1)s_2^2}{n_1 +n_2 -2}}$$\n",
    "$$ $$\n",
    "$$SE = s * \\sqrt{\\frac{1}{n_1} + \\frac{1}{n_2}}$$\n",
    "$$ $$ \n",
    "$$ t = \\frac{x_1 - x_2}{SE} $$\n",
    "- get p by using 2*stats.t.cdf(t,14)\n",
    "- Here p $!<$ $\\alpha$, therefore we can not reject the null."
   ]
  },
  {
   "cell_type": "markdown",
   "metadata": {},
   "source": [
    "**Part C**: Use an appropriate hypothesis test to determine if there is sufficient evidence, at the $\\alpha = 0.025$ significance level, to conclude that taking a coffee-nap promotes faster reaction time than only drinking coffee, or only having a nap.  Be sure to clearly explain the test that you're doing and state all hypotheses. Do all computations in Python, and report results."
   ]
  },
  {
   "cell_type": "code",
   "execution_count": 3,
   "metadata": {},
   "outputs": [
    {
     "name": "stdout",
     "output_type": "stream",
     "text": [
      "t: -3.267442664062935\n",
      "p-value: 0.0014345947847717512\n"
     ]
    }
   ],
   "source": [
    "# coffee-nap versus coffee\n",
    "tops = (14*31.9**2) + (14*39.6**2)\n",
    "bottoms = 28\n",
    "s = math.sqrt(tops/bottoms)\n",
    "se = s * math.sqrt((1/15) + (1/15))\n",
    "t = (451.3 - 494.2)/se\n",
    "print(\"t:\" ,t)\n",
    "p = stats.t.cdf(t,28)\n",
    "print(\"p-value:\",p)"
   ]
  },
  {
   "cell_type": "markdown",
   "metadata": {},
   "source": [
    "- $\\mu_1$ defined as coffeenap\n",
    "- $\\mu_2$ defined as drinking coffee\n",
    "- $H_0: \\mu_1 - \\mu_2 \\geq 0$ \n",
    "- $H_1: \\mu_1 - \\mu_2 < 0$\n",
    "$$s = \\sqrt{\\frac{(n_1-1)s_1^2 + (n_2-1)s_2^2}{n_1 +n_2 -2}}$$\n",
    "$$ $$\n",
    "$$SE = s * \\sqrt{\\frac{1}{n_1} + \\frac{1}{n_2}}$$\n",
    "$$ $$ \n",
    "$$ t = \\frac{x_1 - x_2}{SE} $$\n",
    "- get p by using 2*stats.t.cdf(t,14)\n",
    "- Here p $<$ $\\alpha$, therefore we can reject the null, and support out alternative."
   ]
  },
  {
   "cell_type": "code",
   "execution_count": 4,
   "metadata": {},
   "outputs": [
    {
     "name": "stdout",
     "output_type": "stream",
     "text": [
      "t: -2.9052726242057907\n",
      "p-value: 0.0035455157243530094\n"
     ]
    }
   ],
   "source": [
    "# coffee-nap versus nap\n",
    "tops = (14*31.9**2) + (14*45.2**2)\n",
    "bottoms = 28\n",
    "s = math.sqrt(tops/bottoms)\n",
    "se = s * math.sqrt((1/15) + (1/15))\n",
    "t = (451.3 - 492.8)/se\n",
    "print(\"t:\" ,t)\n",
    "p = stats.t.cdf(t,28)\n",
    "print(\"p-value:\",p)"
   ]
  },
  {
   "cell_type": "markdown",
   "metadata": {},
   "source": [
    "- $\\mu_1$ defined as coffeenap\n",
    "- $\\mu_2$ defined as nap\n",
    "- $H_0: \\mu_1 - \\mu_2 \\geq 0$ \n",
    "- $H_1: \\mu_1 - \\mu_2 < 0$\n",
    "$$s = \\sqrt{\\frac{(n_1-1)s_1^2 + (n_2-1)s_2^2}{n_1 +n_2 -2}}$$\n",
    "$$ $$\n",
    "$$SE = s * \\sqrt{\\frac{1}{n_1} + \\frac{1}{n_2}}$$\n",
    "$$ $$ \n",
    "$$ t = \\frac{x_1 - x_2}{SE} $$\n",
    "- get p by using 2*stats.t.cdf(t,14)\n",
    "- Here p $<$ $\\alpha$, therefore we can reject the null, and support out alternative."
   ]
  },
  {
   "cell_type": "markdown",
   "metadata": {},
   "source": [
    "**Part D**: Compute a 97.5% confidence interval for the standard deviation of reaction time for coffee-nap takers. Do all computations in Python, and report the results."
   ]
  },
  {
   "cell_type": "code",
   "execution_count": 305,
   "metadata": {},
   "outputs": [
    {
     "name": "stdout",
     "output_type": "stream",
     "text": [
      "4.8732174934154235\n",
      "28.421939542462283\n",
      "54.06880904564164\n",
      "22.388646811088417\n"
     ]
    }
   ],
   "source": [
    "print(stats.chi2.ppf(.0125,14))\n",
    "print(stats.chi2.ppf(1-.0125,14))\n",
    "\n",
    "top = (14*(31.9)**2)\n",
    "\n",
    "print(math.sqrt(top/stats.chi2.ppf(.0125,14)))\n",
    "print(math.sqrt(top/stats.chi2.ppf(1-.0125,14)))"
   ]
  },
  {
   "cell_type": "markdown",
   "metadata": {},
   "source": [
    "$$ \\frac{(n-1)s^2}{x^2_{\\frac{\\alpha}{2},v}} \\leq \\sigma^2 \\leq \\frac{(n-1)s^2}{x^2_{1 - \\frac{\\alpha}{2},v}}$$\n",
    "$$ $$\n",
    "$$ \\frac{(14)31.9^2}{x^2_{\\frac{0.025}{2},14}} \\leq \\sigma^2 \\leq \\frac{(14)31.9^2}{x^2_{1 - \\frac{0.025}{2},14}}$$\n",
    "$$ $$\n",
    "$$ \\frac{(14)31.9^2}{4.873} \\leq \\sigma^2 \\leq \\frac{(14)31.9^2}{28.421}$$\n",
    "$$ $$\n",
    "$$ 22.388 \\leq \\sigma \\leq 54.068$$"
   ]
  },
  {
   "cell_type": "markdown",
   "metadata": {},
   "source": [
    "---\n",
    "[Back to top](#top)\n",
    "<a id='p4'></a>\n",
    "\n",
    "### [25 points] Problem 3 - Bad Science for Fun and Profit \n",
    "\n",
    "[Data Dredging](https://en.wikipedia.org/wiki/Data_dredging) and [p-hacking](https://www.explainxkcd.com/wiki/index.php/882:_Significant) are umbrella terms for the dangerous practice of automatically testing a large number of hypotheses on the entirety or subsets of a single dataset in order to find statistically significant results. In this exercise we will focus on the idea of testing hypotheses on subsets of a single data set.  \n",
    "\n",
    "Nefaria Octopain has landed her first data science internship at an aquarium.  Her primary summer project has been to design and test a new feeding regimen for the aquarium's octopus population. To test her regimen, her supervisors have allowed her to deploy her new feeding regimen to 4 targeted octopus subpopulations of 40 octopuses each, every day, for a month. \n",
    "\n",
    "The effectiveness of the new diet is measured simply by the rate at which the food is consumed, which is simply defined to be the _proportion_ of octopuses that eat the food (POOTEF). The aquarium's standard octopus diet has a POOTEF of $0.90$.  Nefaria is hoping to land a permanent position at the aquarium when she graduates, so she's **really** motivated to show her supervisors that the POOTEF of her new diet regimen is a (statistically) significant improvement over their previous diet. \n",
    "\n",
    "The data from Nefaria's summer experiment can be found in `pootef.csv`. Load this dataset as a Pandas DataFrame. "
   ]
  },
  {
   "cell_type": "code",
   "execution_count": 306,
   "metadata": {},
   "outputs": [
    {
     "data": {
      "text/html": [
       "<div>\n",
       "<style scoped>\n",
       "    .dataframe tbody tr th:only-of-type {\n",
       "        vertical-align: middle;\n",
       "    }\n",
       "\n",
       "    .dataframe tbody tr th {\n",
       "        vertical-align: top;\n",
       "    }\n",
       "\n",
       "    .dataframe thead th {\n",
       "        text-align: right;\n",
       "    }\n",
       "</style>\n",
       "<table border=\"1\" class=\"dataframe\">\n",
       "  <thead>\n",
       "    <tr style=\"text-align: right;\">\n",
       "      <th></th>\n",
       "      <th>Group</th>\n",
       "      <th>Date</th>\n",
       "      <th>Fed</th>\n",
       "      <th>Ate</th>\n",
       "    </tr>\n",
       "  </thead>\n",
       "  <tbody>\n",
       "    <tr>\n",
       "      <td>0</td>\n",
       "      <td>1</td>\n",
       "      <td>Oct  1 2018</td>\n",
       "      <td>40</td>\n",
       "      <td>37</td>\n",
       "    </tr>\n",
       "    <tr>\n",
       "      <td>1</td>\n",
       "      <td>1</td>\n",
       "      <td>NaN</td>\n",
       "      <td>40</td>\n",
       "      <td>37</td>\n",
       "    </tr>\n",
       "    <tr>\n",
       "      <td>2</td>\n",
       "      <td>1</td>\n",
       "      <td>NaN</td>\n",
       "      <td>40</td>\n",
       "      <td>35</td>\n",
       "    </tr>\n",
       "    <tr>\n",
       "      <td>3</td>\n",
       "      <td>1</td>\n",
       "      <td>NaN</td>\n",
       "      <td>40</td>\n",
       "      <td>35</td>\n",
       "    </tr>\n",
       "    <tr>\n",
       "      <td>4</td>\n",
       "      <td>1</td>\n",
       "      <td>Oct  5 2018</td>\n",
       "      <td>40</td>\n",
       "      <td>36</td>\n",
       "    </tr>\n",
       "  </tbody>\n",
       "</table>\n",
       "</div>"
      ],
      "text/plain": [
       "   Group         Date  Fed  Ate\n",
       "0      1  Oct  1 2018   40   37\n",
       "1      1          NaN   40   37\n",
       "2      1          NaN   40   35\n",
       "3      1          NaN   40   35\n",
       "4      1  Oct  5 2018   40   36"
      ]
     },
     "execution_count": 306,
     "metadata": {},
     "output_type": "execute_result"
    }
   ],
   "source": [
    "filepath = \"pootef.csv\"\n",
    "df = pd.read_csv(filepath)\n",
    "df.head()"
   ]
  },
  {
   "cell_type": "markdown",
   "metadata": {},
   "source": [
    "**Part A**: State the null and alternate hypotheses that Nefaria should test to see if her new feeding regimen is an improvement over the aquarium's standard feeding regimen with a POOTEF of $0.90$."
   ]
  },
  {
   "cell_type": "markdown",
   "metadata": {},
   "source": [
    "- $H_0: p \\leq 0.90$ \n",
    "- $H_1: p > 0.90$"
   ]
  },
  {
   "cell_type": "markdown",
   "metadata": {},
   "source": [
    "**Part B**: Complete the function below to test the hypothesis from **Part A** at the $\\alpha = 0.05$ significance level using a p-value test. Is there sufficient evidence for Nefaria to conclude that her feeding regimen is an improvement? "
   ]
  },
  {
   "cell_type": "code",
   "execution_count": 307,
   "metadata": {},
   "outputs": [
    {
     "name": "stdout",
     "output_type": "stream",
     "text": [
      "Our p-value is greater than alpha of 0.05 thus we cannot reject the null hypothesis.\n",
      "p-value: 0.3013\n"
     ]
    }
   ],
   "source": [
    "def z_test(bites, feedings, alpha=0.05):\n",
    "    '''\n",
    "    Function to test H1: p > 0.90 \n",
    "    Returns p-value based on H0: p=0.90 \n",
    "    '''\n",
    "    totalBites = sum(bites)\n",
    "    totalFeedings = sum(feedings)\n",
    "    #print (totalBites, totalFeedings)\n",
    "    proportion = totalBites/totalFeedings\n",
    "    #print(proportion)\n",
    "    \n",
    "    #think it should be total feedings??\n",
    "    bottom = .9*.1/totalFeedings\n",
    "    bottom = math.sqrt(bottom)\n",
    "    #print(bottom)\n",
    "    z = (proportion - 0.90)/bottom\n",
    "    #print(z)\n",
    "    pvalue = 1-stats.norm.cdf(z)\n",
    "    \n",
    "    \n",
    "    #incorporate alpha somehow ...\n",
    "    if(pvalue < alpha):\n",
    "        print(\"We have enough evidence to reject the null hypothesis!\")\n",
    "    else:\n",
    "        print(\"Our p-value is greater than alpha of\",alpha,\"thus we cannot reject the null hypothesis.\")\n",
    "    \n",
    "    return pvalue \n",
    "\n",
    "\n",
    "\n",
    "# load ate and fed data into lists to be processed in function \n",
    "bites = df['Ate'].tolist()\n",
    "feedings = df['Fed'].tolist()\n",
    "print(\"p-value:\" , \"%.4f\" %z_test(bites,feedings))"
   ]
  },
  {
   "cell_type": "markdown",
   "metadata": {},
   "source": [
    "**Part C**: Bummer, Nefaria thinks. This is the part where she decides to resort to some questionable science.  Maybe there is a reasonable _subset_ of the data for which her alternative hypothesis is supported?  Can she find it?  Can she come up for a reasonable justification for why this subset of the data should be considered while the rest should be discarded? \n",
    "\n",
    "Here are the **rules**: Nefaria cannot modify the original data (e.g. by adding nonexistent feedings or bites to certain groups or days) because her boss will surely notice.  Instead she needs to find a subset of the data for which her hypothesis is supported by a p-value test at the $\\alpha = 0.05$ significance level _and_ be able to explain to her supervisors why her sub-selection of the data is reasonable.  \n",
    "\n",
    "In addition to your explanation of why your successful subset of the data is potentially reasonable, be sure to thoroughly explain the details of the tests that you perform and show all of your Python computation. "
   ]
  },
  {
   "cell_type": "code",
   "execution_count": 308,
   "metadata": {},
   "outputs": [
    {
     "name": "stdout",
     "output_type": "stream",
     "text": [
      "Our p-value is greater than alpha of 0.05 thus we cannot reject the null hypothesis.\n",
      "GROUP 1 - p-value: 0.5377\n",
      "\n",
      "We have enough evidence to reject the null hypothesis!\n",
      "GROUP 2 - p-value: 0.0115\n",
      "\n",
      "Our p-value is greater than alpha of 0.05 thus we cannot reject the null hypothesis.\n",
      "GROUP 3 - p-value: 0.6475\n",
      "\n",
      "Our p-value is greater than alpha of 0.05 thus we cannot reject the null hypothesis.\n",
      "GROUP 4 - p-value: 0.7756\n",
      "\n"
     ]
    }
   ],
   "source": [
    "group1 = df.loc[(df.Group == 1)]\n",
    "bites1 = group1['Ate'].tolist()\n",
    "feedings1 = group1['Fed'].tolist()\n",
    "print(\"GROUP 1 - p-value:\" , \"%.4f\" %z_test(bites1,feedings1))\n",
    "print(\"\")\n",
    "\n",
    "group2 = df.loc[(df.Group == 2)]\n",
    "bites2 = group2['Ate'].tolist()\n",
    "feedings2 = group2['Fed'].tolist()\n",
    "print(\"GROUP 2 - p-value:\" , \"%.4f\" %z_test(bites2,feedings2))\n",
    "print(\"\")\n",
    "\n",
    "group3 = df.loc[(df.Group == 3)]\n",
    "bites3 = group3['Ate'].tolist()\n",
    "feedings3 = group3['Fed'].tolist()\n",
    "print(\"GROUP 3 - p-value:\" , \"%.4f\" %z_test(bites3,feedings3))\n",
    "print(\"\")\n",
    "\n",
    "group4 = df.loc[(df.Group == 4)]\n",
    "bites4 = group4['Ate'].tolist()\n",
    "feedings4 = group4['Fed'].tolist()\n",
    "print(\"GROUP 4 - p-value:\" , \"%.4f\" %z_test(bites4,feedings4))\n",
    "print(\"\")"
   ]
  },
  {
   "cell_type": "markdown",
   "metadata": {},
   "source": [
    "As we can see, when we break the data into their group number, we can successfully reject the null hypothesis. The p-value for this group is 0.01, which is less than our alpha. Nefaria can attemp to explain various things to her supervisors as to why she only selected group 2, maybe group 2 has a more uniform distribution of octopus weights, for example. Group 2 still is valid, the sample size is above 30, so theres no reason why her supervisor should discard her data or conclusion. "
   ]
  },
  {
   "cell_type": "markdown",
   "metadata": {},
   "source": [
    "<br>\n",
    "\n",
    "---\n",
    "[Back to top](#top)\n",
    "<a id='p3'></a>\n",
    "\n",
    "### [30 points] Problem 4 - Simple Linear Regression for Science!\n",
    "\n",
    "From [Google Trends](https://trends.google.com/trends/?geo=US) data, it appears that interest in \"data science\" in the United States has steadily increasing since 2004. Interest is measured relative to the maximum rate of Google searches for that term over the time period (so the maximum is 100). \n",
    "\n",
    "**Part A:** Load up the data in `data_science_interest.csv` into a Pandas DataFrame. Create two new columns:\n",
    "* `Year` should be the year associated with that data point, and\n",
    "* `Month` should be the month (1-12) associated with that data point.\n",
    "\n",
    "Then, make a **scatter plot** (using `pyplot.scatter`) of all of the data points, showing how interest in \"data science\" has evolved over time. Label the x-axis by year, displaying ticks for Janurary of each year between 2004 and 2019. "
   ]
  },
  {
   "cell_type": "code",
   "execution_count": 3,
   "metadata": {},
   "outputs": [
    {
     "data": {
      "text/html": [
       "<div>\n",
       "<style scoped>\n",
       "    .dataframe tbody tr th:only-of-type {\n",
       "        vertical-align: middle;\n",
       "    }\n",
       "\n",
       "    .dataframe tbody tr th {\n",
       "        vertical-align: top;\n",
       "    }\n",
       "\n",
       "    .dataframe thead th {\n",
       "        text-align: right;\n",
       "    }\n",
       "</style>\n",
       "<table border=\"1\" class=\"dataframe\">\n",
       "  <thead>\n",
       "    <tr style=\"text-align: right;\">\n",
       "      <th></th>\n",
       "      <th>Month</th>\n",
       "      <th>Interest</th>\n",
       "      <th>Year</th>\n",
       "      <th>Month_</th>\n",
       "    </tr>\n",
       "  </thead>\n",
       "  <tbody>\n",
       "    <tr>\n",
       "      <td>0</td>\n",
       "      <td>2004-01</td>\n",
       "      <td>15</td>\n",
       "      <td>2004</td>\n",
       "      <td>1</td>\n",
       "    </tr>\n",
       "    <tr>\n",
       "      <td>1</td>\n",
       "      <td>2004-02</td>\n",
       "      <td>9</td>\n",
       "      <td>2004</td>\n",
       "      <td>2</td>\n",
       "    </tr>\n",
       "    <tr>\n",
       "      <td>2</td>\n",
       "      <td>2004-03</td>\n",
       "      <td>10</td>\n",
       "      <td>2004</td>\n",
       "      <td>3</td>\n",
       "    </tr>\n",
       "    <tr>\n",
       "      <td>3</td>\n",
       "      <td>2004-04</td>\n",
       "      <td>11</td>\n",
       "      <td>2004</td>\n",
       "      <td>4</td>\n",
       "    </tr>\n",
       "    <tr>\n",
       "      <td>4</td>\n",
       "      <td>2004-05</td>\n",
       "      <td>6</td>\n",
       "      <td>2004</td>\n",
       "      <td>5</td>\n",
       "    </tr>\n",
       "  </tbody>\n",
       "</table>\n",
       "</div>"
      ],
      "text/plain": [
       "     Month  Interest  Year  Month_\n",
       "0  2004-01        15  2004       1\n",
       "1  2004-02         9  2004       2\n",
       "2  2004-03        10  2004       3\n",
       "3  2004-04        11  2004       4\n",
       "4  2004-05         6  2004       5"
      ]
     },
     "execution_count": 3,
     "metadata": {},
     "output_type": "execute_result"
    }
   ],
   "source": [
    "filepath = \"data_science_interest.csv\"\n",
    "df4 = pd.read_csv(filepath)\n",
    "df4['Year'] = df4['Month'].astype(str).str[0:4]\n",
    "df4['Year'] = df4['Year'].astype(int)\n",
    "df4['Month_'] = df4['Month'].astype(str).str[5:7]\n",
    "df4['Month_'] = df4['Month_'].astype(int)\n",
    "df4.head()"
   ]
  },
  {
   "cell_type": "code",
   "execution_count": 4,
   "metadata": {},
   "outputs": [
    {
     "data": {
      "text/plain": [
       "<matplotlib.collections.PathCollection at 0x1a21404990>"
      ]
     },
     "execution_count": 4,
     "metadata": {},
     "output_type": "execute_result"
    },
    {
     "data": {
      "image/png": "[encoded data removed]",
      "text/plain": [
       "<Figure size 432x288 with 1 Axes>"
      ]
     },
     "metadata": {
      "needs_background": "light"
     },
     "output_type": "display_data"
    }
   ],
   "source": [
    "#plt.scatter(df4['Month'],df4['Interest'])\n",
    "plt.scatter(df4['Year'],df4['Interest'])\n",
    "\n",
    "\n",
    "#plt.xticks(np.arange(min(df4['Year']), max(df4['Year'])+1, 1.0))"
   ]
  },
  {
   "cell_type": "markdown",
   "metadata": {},
   "source": [
    "**Part B:** These data (and the sea-level data from Homework 4) are a **time series**, where the independent variable is *time* and the dependent quantity is interest in data science. One of the central assumptions of linear regression is that the data are observations generated by some process, independently of one another. With time series data, we need to be careful because there could be some other process affecting the output data. In particular, **annual cycles** are patterns that reoccur each year and are frequently present in time series data. For example, seasonal patterns of weather are annual cycles.\n",
    "\n",
    "To see what kind of effect time has, make a **line plot** (using `pyplot.plot`) of the interest in data science, as a function of time. Again, include all of the data points and, for the x-axis, label only the tick marks associated with January of each year, and be sure to label your axes."
   ]
  },
  {
   "cell_type": "code",
   "execution_count": 6,
   "metadata": {},
   "outputs": [
    {
     "data": {
      "image/png": "[encoded data removed]",
      "text/plain": [
       "<Figure size 1440x216 with 1 Axes>"
      ]
     },
     "metadata": {
      "needs_background": "light"
     },
     "output_type": "display_data"
    }
   ],
   "source": [
    "plt.plot(df4['Month'],df4['Interest'])\n",
    "ticks = ['2004-01','2005-01','2006-01','2007-01','2008-01','2009-01','2010-01','2011-01','2012-01','2013-01','2014-01','2015-01','2016-01','2017-01','2018-01','2019-01']\n",
    "plt.xticks(ticks)\n",
    "plt.ylabel('Interest')\n",
    "plt.xlabel('Year')\n",
    "plt.rcParams[\"figure.figsize\"] = (20,3)\n",
    "\n",
    "plt.show()\n"
   ]
  },
  {
   "cell_type": "markdown",
   "metadata": {},
   "source": [
    "Its a bit hard to judge from this graph the annual cycles. It seems as though there are peaks avery year around 75% through the year, but its hard to see perfectly. I will include a graph that plots the months of the year vs interest, so we can really see any cycles that could possibly occur as each year progresses. "
   ]
  },
  {
   "cell_type": "code",
   "execution_count": 8,
   "metadata": {},
   "outputs": [
    {
     "data": {
      "image/png": "[encoded data removed]",
      "text/plain": [
       "<Figure size 1440x216 with 1 Axes>"
      ]
     },
     "metadata": {
      "needs_background": "light"
     },
     "output_type": "display_data"
    }
   ],
   "source": [
    "plt.plot(df4['Month_'],df4['Interest'])\n",
    "plt.ylabel('Interest')\n",
    "plt.xlabel('Month')\n",
    "plt.show()"
   ]
  },
  {
   "cell_type": "markdown",
   "metadata": {},
   "source": [
    "**Part C:** Does your plot from Part B suggest that there is some annual cycle to the interest in data science? During which months is interest in data science highest? What about lowest? Justify your answers using your plot, **and** by computing the mean interest in data science for each month. So, compute 12 values and report them in a markdown table. Do **not** just spit out a horizontal list of 12 numbers. That would be yucky to try to read, and we're scientists.\n",
    "\n",
    "What do you think accounts for the increased interest in data science during the fall months?"
   ]
  },
  {
   "cell_type": "code",
   "execution_count": 7,
   "metadata": {},
   "outputs": [
    {
     "data": {
      "text/html": [
       "<div>\n",
       "<style scoped>\n",
       "    .dataframe tbody tr th:only-of-type {\n",
       "        vertical-align: middle;\n",
       "    }\n",
       "\n",
       "    .dataframe tbody tr th {\n",
       "        vertical-align: top;\n",
       "    }\n",
       "\n",
       "    .dataframe thead th {\n",
       "        text-align: right;\n",
       "    }\n",
       "</style>\n",
       "<table border=\"1\" class=\"dataframe\">\n",
       "  <thead>\n",
       "    <tr style=\"text-align: right;\">\n",
       "      <th></th>\n",
       "      <th>Month</th>\n",
       "      <th>Mean</th>\n",
       "    </tr>\n",
       "  </thead>\n",
       "  <tbody>\n",
       "    <tr>\n",
       "      <td>0</td>\n",
       "      <td>Jan</td>\n",
       "      <td>26.62</td>\n",
       "    </tr>\n",
       "    <tr>\n",
       "      <td>1</td>\n",
       "      <td>Feb</td>\n",
       "      <td>25.56</td>\n",
       "    </tr>\n",
       "    <tr>\n",
       "      <td>2</td>\n",
       "      <td>Mar</td>\n",
       "      <td>24.25</td>\n",
       "    </tr>\n",
       "    <tr>\n",
       "      <td>3</td>\n",
       "      <td>Apr</td>\n",
       "      <td>24.69</td>\n",
       "    </tr>\n",
       "    <tr>\n",
       "      <td>4</td>\n",
       "      <td>May</td>\n",
       "      <td>23.06</td>\n",
       "    </tr>\n",
       "    <tr>\n",
       "      <td>5</td>\n",
       "      <td>Jun</td>\n",
       "      <td>21.62</td>\n",
       "    </tr>\n",
       "    <tr>\n",
       "      <td>6</td>\n",
       "      <td>Jul</td>\n",
       "      <td>21.00</td>\n",
       "    </tr>\n",
       "    <tr>\n",
       "      <td>7</td>\n",
       "      <td>Aug</td>\n",
       "      <td>26.94</td>\n",
       "    </tr>\n",
       "    <tr>\n",
       "      <td>8</td>\n",
       "      <td>Sep</td>\n",
       "      <td>32.69</td>\n",
       "    </tr>\n",
       "    <tr>\n",
       "      <td>9</td>\n",
       "      <td>Oct</td>\n",
       "      <td>29.44</td>\n",
       "    </tr>\n",
       "    <tr>\n",
       "      <td>10</td>\n",
       "      <td>Nov</td>\n",
       "      <td>27.69</td>\n",
       "    </tr>\n",
       "    <tr>\n",
       "      <td>11</td>\n",
       "      <td>Dec</td>\n",
       "      <td>20.87</td>\n",
       "    </tr>\n",
       "  </tbody>\n",
       "</table>\n",
       "</div>"
      ],
      "text/plain": [
       "   Month   Mean\n",
       "0    Jan  26.62\n",
       "1    Feb  25.56\n",
       "2    Mar  24.25\n",
       "3    Apr  24.69\n",
       "4    May  23.06\n",
       "5    Jun  21.62\n",
       "6    Jul  21.00\n",
       "7    Aug  26.94\n",
       "8    Sep  32.69\n",
       "9    Oct  29.44\n",
       "10   Nov  27.69\n",
       "11   Dec  20.87"
      ]
     },
     "execution_count": 7,
     "metadata": {},
     "output_type": "execute_result"
    }
   ],
   "source": [
    "def avg(n):\n",
    "    return sum(n)/len(n)\n",
    "\n",
    "\n",
    "mean1 = df4.loc[(df4.Month_ == 1)]\n",
    "mean2 = df4.loc[(df4.Month_ == 2)]\n",
    "mean3 = df4.loc[(df4.Month_ == 3)]\n",
    "mean4 = df4.loc[(df4.Month_ == 4)]\n",
    "mean5 = df4.loc[(df4.Month_ == 5)]\n",
    "mean6 = df4.loc[(df4.Month_ == 6)]\n",
    "mean7 = df4.loc[(df4.Month_ == 7)]\n",
    "mean8 = df4.loc[(df4.Month_ == 8)]\n",
    "mean9 = df4.loc[(df4.Month_ == 9)]\n",
    "mean10 = df4.loc[(df4.Month_ == 10)]\n",
    "mean11 = df4.loc[(df4.Month_ == 11)]\n",
    "mean12 = df4.loc[(df4.Month_ == 12)]\n",
    "\n",
    "#mean1.head(100)\n",
    "jan = mean1['Interest'].tolist()\n",
    "feb = mean2['Interest'].tolist()\n",
    "mar = mean3['Interest'].tolist()\n",
    "apr = mean4['Interest'].tolist()\n",
    "may = mean5['Interest'].tolist()\n",
    "jun = mean6['Interest'].tolist()\n",
    "jul = mean7['Interest'].tolist()\n",
    "aug = mean8['Interest'].tolist()\n",
    "sep = mean9['Interest'].tolist()\n",
    "otb = mean10['Interest'].tolist()\n",
    "nov = mean11['Interest'].tolist()\n",
    "dec = mean12['Interest'].tolist()\n",
    "\n",
    "jan = avg(jan)\n",
    "feb = avg(feb)\n",
    "mar = avg(mar)\n",
    "apr = avg(apr)\n",
    "may = avg(may)\n",
    "jun = avg(jun)\n",
    "jul = avg(jul)\n",
    "aug = avg(aug)\n",
    "sep = avg(sep)\n",
    "otb = avg(otb)\n",
    "nov = avg(nov)\n",
    "dec = avg(dec)\n",
    "\n",
    "data = [[\"Jan\",jan],[\"Feb\",feb],[\"Mar\",mar],[\"Apr\",apr],[\"May\",may],[\"Jun\",jun],['Jul',jul],[\"Aug\",aug],[\"Sep\",sep],[\"Oct\",otb],[\"Nov\",nov],[\"Dec\",dec]]\n",
    "df_avg = pd.DataFrame(data, columns = [\"Month\",\"Mean\"])\n",
    "df_avg.Mean = df_avg.Mean.round(2)\n",
    "df_avg.head(12)"
   ]
  },
  {
   "cell_type": "markdown",
   "metadata": {},
   "source": [
    "Yes, based on both of my graphs, in the fall months there seems to be an increase in data science interest. It seems to be lowest in the summer months. "
   ]
  },
  {
   "cell_type": "markdown",
   "metadata": {},
   "source": [
    "**Part D:** (Spoiler alert!) Since there seems to be an annual cycle, one of the fundamental assumptions of our simple linear regression model is not satisfied. Namely, it is not the case that the model-data residuals, $\\epsilon_i$, are independent of one another.\n",
    "\n",
    "So, we need to process our data a bit further before fitting a regression model. One way to address this is to take the mean of all the data each year and use for analysis the time series of annual mean interest in data science. Create a new Pandas DataFrame that consists only of two columns:\n",
    "* `year`, and\n",
    "* `interest`, the mean interest in data science from the twelve months in that year."
   ]
  },
  {
   "cell_type": "code",
   "execution_count": 8,
   "metadata": {},
   "outputs": [
    {
     "data": {
      "text/html": [
       "<div>\n",
       "<style scoped>\n",
       "    .dataframe tbody tr th:only-of-type {\n",
       "        vertical-align: middle;\n",
       "    }\n",
       "\n",
       "    .dataframe tbody tr th {\n",
       "        vertical-align: top;\n",
       "    }\n",
       "\n",
       "    .dataframe thead th {\n",
       "        text-align: right;\n",
       "    }\n",
       "</style>\n",
       "<table border=\"1\" class=\"dataframe\">\n",
       "  <thead>\n",
       "    <tr style=\"text-align: right;\">\n",
       "      <th></th>\n",
       "      <th>Year</th>\n",
       "      <th>MeanInterest</th>\n",
       "    </tr>\n",
       "  </thead>\n",
       "  <tbody>\n",
       "    <tr>\n",
       "      <td>0</td>\n",
       "      <td>2004</td>\n",
       "      <td>9.67</td>\n",
       "    </tr>\n",
       "    <tr>\n",
       "      <td>1</td>\n",
       "      <td>2005</td>\n",
       "      <td>8.58</td>\n",
       "    </tr>\n",
       "    <tr>\n",
       "      <td>2</td>\n",
       "      <td>2006</td>\n",
       "      <td>7.08</td>\n",
       "    </tr>\n",
       "    <tr>\n",
       "      <td>3</td>\n",
       "      <td>2007</td>\n",
       "      <td>6.75</td>\n",
       "    </tr>\n",
       "    <tr>\n",
       "      <td>4</td>\n",
       "      <td>2008</td>\n",
       "      <td>6.75</td>\n",
       "    </tr>\n",
       "    <tr>\n",
       "      <td>5</td>\n",
       "      <td>2009</td>\n",
       "      <td>8.08</td>\n",
       "    </tr>\n",
       "    <tr>\n",
       "      <td>6</td>\n",
       "      <td>2010</td>\n",
       "      <td>7.92</td>\n",
       "    </tr>\n",
       "    <tr>\n",
       "      <td>7</td>\n",
       "      <td>2011</td>\n",
       "      <td>8.33</td>\n",
       "    </tr>\n",
       "    <tr>\n",
       "      <td>8</td>\n",
       "      <td>2012</td>\n",
       "      <td>10.50</td>\n",
       "    </tr>\n",
       "    <tr>\n",
       "      <td>9</td>\n",
       "      <td>2013</td>\n",
       "      <td>15.00</td>\n",
       "    </tr>\n",
       "    <tr>\n",
       "      <td>10</td>\n",
       "      <td>2014</td>\n",
       "      <td>24.00</td>\n",
       "    </tr>\n",
       "    <tr>\n",
       "      <td>11</td>\n",
       "      <td>2015</td>\n",
       "      <td>35.83</td>\n",
       "    </tr>\n",
       "    <tr>\n",
       "      <td>12</td>\n",
       "      <td>2016</td>\n",
       "      <td>43.08</td>\n",
       "    </tr>\n",
       "    <tr>\n",
       "      <td>13</td>\n",
       "      <td>2017</td>\n",
       "      <td>61.25</td>\n",
       "    </tr>\n",
       "    <tr>\n",
       "      <td>14</td>\n",
       "      <td>2018</td>\n",
       "      <td>72.75</td>\n",
       "    </tr>\n",
       "    <tr>\n",
       "      <td>15</td>\n",
       "      <td>2019</td>\n",
       "      <td>85.73</td>\n",
       "    </tr>\n",
       "  </tbody>\n",
       "</table>\n",
       "</div>"
      ],
      "text/plain": [
       "    Year  MeanInterest\n",
       "0   2004          9.67\n",
       "1   2005          8.58\n",
       "2   2006          7.08\n",
       "3   2007          6.75\n",
       "4   2008          6.75\n",
       "5   2009          8.08\n",
       "6   2010          7.92\n",
       "7   2011          8.33\n",
       "8   2012         10.50\n",
       "9   2013         15.00\n",
       "10  2014         24.00\n",
       "11  2015         35.83\n",
       "12  2016         43.08\n",
       "13  2017         61.25\n",
       "14  2018         72.75\n",
       "15  2019         85.73"
      ]
     },
     "execution_count": 8,
     "metadata": {},
     "output_type": "execute_result"
    }
   ],
   "source": [
    "mean1 = df4.loc[(df4.Year == 2004)]\n",
    "mean2 = df4.loc[(df4.Year == 2005)]\n",
    "mean3 = df4.loc[(df4.Year == 2006)]\n",
    "mean4 = df4.loc[(df4.Year == 2007)]\n",
    "mean5 = df4.loc[(df4.Year == 2008)]\n",
    "mean6 = df4.loc[(df4.Year == 2009)]\n",
    "mean7 = df4.loc[(df4.Year == 2010)]\n",
    "mean8 = df4.loc[(df4.Year == 2011)]\n",
    "mean9 = df4.loc[(df4.Year == 2012)]\n",
    "mean10 = df4.loc[(df4.Year == 2013)]\n",
    "mean11 = df4.loc[(df4.Year == 2014)]\n",
    "mean12 = df4.loc[(df4.Year == 2015)]\n",
    "mean13= df4.loc[(df4.Year == 2016)]\n",
    "mean14 = df4.loc[(df4.Year == 2017)]\n",
    "mean15 = df4.loc[(df4.Year == 2018)]\n",
    "mean16 = df4.loc[(df4.Year == 2019)]\n",
    "\n",
    "\n",
    "y4 = mean1['Interest'].tolist()\n",
    "y5 = mean2['Interest'].tolist()\n",
    "y6 = mean3['Interest'].tolist()\n",
    "y7 = mean4['Interest'].tolist()\n",
    "y8 = mean5['Interest'].tolist()\n",
    "y9 = mean6['Interest'].tolist()\n",
    "y10 = mean7['Interest'].tolist()\n",
    "y11 = mean8['Interest'].tolist()\n",
    "y12 = mean9['Interest'].tolist()\n",
    "y13 = mean10['Interest'].tolist()\n",
    "y14 = mean11['Interest'].tolist()\n",
    "y15 = mean12['Interest'].tolist()\n",
    "y16 = mean13['Interest'].tolist()\n",
    "y17 = mean14['Interest'].tolist()\n",
    "y18 = mean15['Interest'].tolist()\n",
    "y19 = mean16['Interest'].tolist()\n",
    "\n",
    "y4 = avg(y4)\n",
    "y5 = avg(y5)\n",
    "y6 = avg(y6)\n",
    "y7 = avg(y7)\n",
    "y8 = avg(y8)\n",
    "y9 = avg(y9)\n",
    "y10 = avg(y10)\n",
    "y11 = avg(y11)\n",
    "y12 = avg(y12)\n",
    "y13 = avg(y13)\n",
    "y14 = avg(y14)\n",
    "y15 = avg(y15)\n",
    "y16 = avg(y16)\n",
    "y17 = avg(y17)\n",
    "y18 = avg(y18)\n",
    "y19 = avg(y19)\n",
    "\n",
    "\n",
    "data1 = [[2004,y4],[2005,y5],[2006,y6],[2007,y7],[2008,y8],[2009,y9],[2010,y10],[2011,y11],[2012,y12],[2013,y13],[2014,y14],[2015,y15],[2016,y16],[2017,y17],[2018,y18 ],[2019,y19] ]\n",
    "df_avg_year = pd.DataFrame(data1, columns = [\"Year\",\"MeanInterest\"])\n",
    "df_avg_year.MeanInterest = df_avg_year.MeanInterest.round(2)\n",
    "df_avg_year.head(18)"
   ]
  },
  {
   "cell_type": "markdown",
   "metadata": {},
   "source": [
    "**Part E:** Perform a simple linear regression with `year` as the feature and `interest` as the response (mean annual interest in data science).  Report the estimated regression model in the form $Y = \\alpha + \\beta x$. Do all computations in Python. \n",
    "\n",
    "Then make a scatter plot of the mean annual interest in data science as a function of year, and overlay the estimated regression line. Label your axes and provide a legend."
   ]
  },
  {
   "cell_type": "code",
   "execution_count": 9,
   "metadata": {},
   "outputs": [
    {
     "name": "stdout",
     "output_type": "stream",
     "text": [
      "Linear Regression Line : y =  -9453.546661764072 + 4.7125294117643906 * x\n"
     ]
    },
    {
     "data": {
      "image/png": "[encoded data removed]",
      "text/plain": [
       "<Figure size 1440x216 with 1 Axes>"
      ]
     },
     "metadata": {
      "needs_background": "light"
     },
     "output_type": "display_data"
    }
   ],
   "source": [
    "year_list = df_avg_year['Year'].tolist()\n",
    "interest_list = df_avg_year['MeanInterest'].tolist()\n",
    "\n",
    "# x bar\n",
    "x = avg(year_list)\n",
    "\n",
    "# y bar\n",
    "y = avg(interest_list)\n",
    "\n",
    "#xy bar\n",
    "xy = 0\n",
    "for k in range (0,len(year_list)):\n",
    "    #print(year_list[x],interest_list[x])\n",
    "    tmp = year_list[k]*interest_list[k]\n",
    "    xy += tmp\n",
    "# print(xy)\n",
    "xy = xy / len(year_list)\n",
    "\n",
    "    \n",
    "\n",
    "#x bar squared\n",
    "x_squared = x ** 2\n",
    "\n",
    "\n",
    "#x squared bar\n",
    "xsquaredbar = 0\n",
    "for r in year_list:\n",
    "    tmp = r\n",
    "    tmp = tmp ** 2\n",
    "    xsquaredbar += tmp\n",
    "xsquaredbar = xsquaredbar / len(year_list)\n",
    "\n",
    "bravo = ((xy - (x*y)) / (xsquaredbar - x_squared))\n",
    "\n",
    "\n",
    "\n",
    "\n",
    "\n",
    "alpha = y - (bravo * x)\n",
    "\n",
    "\n",
    "print(\"Linear Regression Line : y = \",alpha, '+', bravo ,'*' , \"x\")\n",
    "b = []\n",
    "n = []\n",
    "for p in range(2004,2020):\n",
    "    n.append(p)\n",
    "    b.append(alpha + (bravo*p))\n",
    "# print(b)\n",
    "# print(n)\n",
    "plt.scatter(df_avg_year['Year'],df_avg_year['MeanInterest'],label = 'Data')\n",
    "plt.plot(n, b,label = 'Linear Regression Line');\n",
    "plt.legend(loc = 'lower right')\n",
    "plt.show()"
   ]
  },
  {
   "cell_type": "markdown",
   "metadata": {},
   "source": [
    "**Part F**: Give a physical interpretation of the coefficient $\\hat{\\beta}$, estimated from your model. Include addressing whether the relationship between time and interest in data science is positive or negative. Fully justify your responses."
   ]
  },
  {
   "cell_type": "markdown",
   "metadata": {},
   "source": [
    "$\\hat{\\beta}$ is the slope of our regression line. In this specific case, every year we increase our response variable(Interest mean) should increase by 4.7, a positive relationship."
   ]
  },
  {
   "cell_type": "markdown",
   "metadata": {},
   "source": [
    "**Part G**: What interest in data science does your simple linear regression model predict in the year 2025? What about in 2050? What are potential drawbacks to this model for interest in data science (think about the minimium and maximum values for the data)? \n",
    "\n",
    "**Note**: From Google Trends Documentation, the \"interest\" variable is defined as: \"Interest represent search interest relative to the highest point on the chart for the given region and time. A value of 100 is the peak popularity for the term. A value of 50 means that the term is half as popular. A score of 0 means there was not enough data for this term.\""
   ]
  },
  {
   "cell_type": "code",
   "execution_count": 298,
   "metadata": {},
   "outputs": [
    {
     "name": "stdout",
     "output_type": "stream",
     "text": [
      "In the year 2025 we expect the intrest in data science to be 89.33 based on our regression model.\n",
      "In the year 2050 we expect the intrest in data science to be 207.14 based on our regression model.\n"
     ]
    },
    {
     "data": {
      "text/plain": [
       "0"
      ]
     },
     "execution_count": 298,
     "metadata": {},
     "output_type": "execute_result"
    }
   ],
   "source": [
    "def regression(year):\n",
    "    x =  -9453.546661764072 + 4.7125294117643906 * year\n",
    "    print(\"In the year\", year, \"we expect the intrest in data science to be\", \"%.2f\" %x, \"based on our regression model.\")\n",
    "    return 0\n",
    "\n",
    "regression(2025)\n",
    "regression(2050)\n"
   ]
  },
  {
   "cell_type": "markdown",
   "metadata": {},
   "source": [
    "There is an issue here, as the intrest level for 2050 is above its max value of 100."
   ]
  },
  {
   "cell_type": "markdown",
   "metadata": {},
   "source": [
    "**Part H:** Compute a 80% confidence interval for the slope parameter, $\\beta$, ***by hand***. This means performing all calculations yourself in Python, as opposed to calling a simple Python function that gives you the result. Why is this a confidence interval for $\\beta$ and not for $\\hat{\\beta}$?"
   ]
  },
  {
   "cell_type": "code",
   "execution_count": 16,
   "metadata": {},
   "outputs": [
    {
     "name": "stdout",
     "output_type": "stream",
     "text": [
      "5750832118.54511\n",
      "[-124.25124259191014, 133.67630141543893]\n"
     ]
    }
   ],
   "source": [
    "t = stats.t.ppf((1-.2)/2 ,len(df_avg_year)-2)\n",
    "\n",
    "x = np.sum((df_avg_year['MeanInterest'] - alpha + (bravo * df_avg_year['Year']))**2)\n",
    "print(x)\n",
    "y = np.sum(df_avg_year['Year'] - df_avg_year['MeanInterest'].mean()**2)\n",
    "sigma = np.sqrt(x/len(df_avg_year))\n",
    "tmp = []\n",
    "for i in range(-1,2,2):\n",
    "    tmp.append(bravo + i *sigma/np.sqrt(y))\n",
    "print(str(tmp))\n"
   ]
  },
  {
   "cell_type": "markdown",
   "metadata": {
    "collapsed": true
   },
   "source": [
    "**Part I:** What proportion of the variation in mean annual interest in data science is explained by your linear regression model?"
   ]
  },
  {
   "cell_type": "code",
   "execution_count": null,
   "metadata": {},
   "outputs": [],
   "source": []
  }
 ],
 "metadata": {
  "kernelspec": {
   "display_name": "Python 3",
   "language": "python",
   "name": "python3"
  },
  "language_info": {
   "codemirror_mode": {
    "name": "ipython",
    "version": 3
   },
   "file_extension": ".py",
   "mimetype": "text/x-python",
   "name": "python",
   "nbconvert_exporter": "python",
   "pygments_lexer": "ipython3",
   "version": "3.7.4"
  }
 },
 "nbformat": 4,
 "nbformat_minor": 2
}
