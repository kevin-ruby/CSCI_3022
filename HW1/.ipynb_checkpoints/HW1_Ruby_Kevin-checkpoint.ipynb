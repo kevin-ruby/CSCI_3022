{
 "cells": [
  {
   "cell_type": "markdown",
   "metadata": {},
   "source": []
  },
  {
   "cell_type": "markdown",
   "metadata": {},
   "source": [
    "<a id='top'></a>\n",
    "\n",
    "# Homework 1: Data Cleaning and Exploratory Data Analysis \n",
    "***\n",
    "\n",
    "**Name**: Kevin Ruby\n",
    "\n",
    "***\n",
    "\n",
    "This assignment is due on Canvas by **MIDNIGHT on Friday September 13**. Your solutions to theoretical questions should be done in Markdown directly below the associated question.  Your solutions to computational questions should include any specified Python code and results as well as written commentary on your conclusions.  Remember that you are encouraged to discuss the problems with your classmates, but **you must write all code and solutions on your own**.\n",
    "\n",
    "**NOTES**: \n",
    "\n",
    "- Any relevant data sets should be available under the **Data** module on Canvas. To make life easier on the graders if they need to run your code, do not change the relative path names here. Instead, move the files around on your computer.\n",
    "- If you're not familiar with typesetting math directly into Markdown then by all means, do your work on paper first and then typeset it later.  Remember that there is a [reference guide](https://math.meta.stackexchange.com/questions/5020/mathjax-basic-tutorial-and-quick-reference) linked on Canvas on writing math in Markdown. **All** of your written commentary, justifications and mathematical work should be in Markdown.\n",
    "- Because you can technically evaluate notebook cells is a non-linear order, it's a good idea to do Kernel $\\rightarrow$ Restart & Run All as a check before submitting your solutions.  That way if we need to run your code you will know that it will work as expected. \n",
    "- It is **bad form** to make your reader interpret numerical output from your code.  If a question asks you to compute some value from the data you should show your code output **AND** write a summary of the results in Markdown directly below your code. \n",
    "- This probably goes without saying, but... For any question that asks you to calculate something, you **must show all work and justify your answers to receive credit**. Sparse or nonexistent work will receive sparse or nonexistent credit. \n",
    "\n",
    "---\n",
    "**Shortcuts:**  [Problem 1](#p1) | [Problem 2](#p2) | [Problem 3](#p3) | [Problem 4](#p4) | [Problem 5](#p5) | [Problem 6](#p6)\n",
    "\n",
    "---"
   ]
  },
  {
   "cell_type": "code",
   "execution_count": 434,
   "metadata": {},
   "outputs": [],
   "source": [
    "import pandas as pd\n",
    "import numpy as np\n",
    "import matplotlib.pylab as plt\n",
    "%matplotlib inline"
   ]
  },
  {
   "cell_type": "markdown",
   "metadata": {},
   "source": [
    "[Back to top](#top)\n",
    "\n",
    "<br>\n",
    "\n",
    "<a/ id='p1'></a>\n",
    "\n",
    "### (10 points) Problem 1\n",
    "***\n",
    "\n",
    "<img style=\"float: left; width: 200px; padding: 3mm;\" src=\"https://aquarium.org/wp-content/uploads/2015/08/Seahorse-female.jpg\" alt=\"Drawing\"/>  \n",
    "Poseidon is studying seahorses. Locations in each of the Atlantic, Pacific, Indian, Artic, and Southern Oceans are chosen to catch and release seahorses. After being caught, the seahorses are monitored for 24 hours while being fed organic, free-range plankton. The amount of plankton that each seahorse eats is recorded in an app on Poseidon’s phone, called Hippocampus. He collects 6 seahorses from the Arctic Ocean, 36 seahorses from the Pacific Ocean, 12 seahorses from the Indian Ocean, 6 seahorses from the Southern Ocean, and 42 seahorses from the Atlantic Ocean. \n",
    "\n",
    "Poseidon wants to get a sense for the average amount of plankton eaten by seahorses, so he uses the Hippcampus app to randomly choose 1 seahorse from the Arctic, 6 from the Pacific, 2 from the Indian Ocean, 1 from the Southern Ocean, and 7 from the Atlantic Ocean.\n",
    "\n",
    "$$ \\quad $$\n",
    "    \n",
    "**Part A:** Identify the following: \n",
    "\n",
    "- the population \n",
    "- the sample frame \n",
    "- the sample \n",
    "- the type of sample \n",
    "- the quantity of interest"
   ]
  },
  {
   "cell_type": "markdown",
   "metadata": {},
   "source": [
    "- population: seahorses in the ocean.\n",
    "- sample frame: number of seahorses from the following regions : \n",
    "    - Artic Ocean- 6\n",
    "    - Pacific Ocean - 36\n",
    "    - Indian Ocean - 12\n",
    "    - Southern Ocean - 6\n",
    "    - Atlantic Ocean - 42\n",
    "- the sample: 17 seahorses \n",
    "- type of sample: Stratified Sample\n",
    "- quantity of interest: amount of plankton eaten"
   ]
  },
  {
   "cell_type": "markdown",
   "metadata": {},
   "source": [
    "**Part B:** Poseidon repeats his sampling, again using the Hippocampus app. Now, he orders the data alphabetically by location and chooses every 3rd data value. \n",
    "    \n",
    "Identify the following: \n",
    "\n",
    "- the population \n",
    "- the sample frame \n",
    "- the sample \n",
    "- the type of sample \n",
    "- the quantity of interest"
   ]
  },
  {
   "cell_type": "markdown",
   "metadata": {},
   "source": [
    "- population: seahorses in the ocean.\n",
    "- sample frame: number of seahorses from the following regions : \n",
    "    - Artic Ocean- 6\n",
    "    - Pacific Ocean - 36\n",
    "    - Indian Ocean - 12\n",
    "    - Southern Ocean - 6\n",
    "    - Atlantic Ocean - 42\n",
    "- the sample: 17 seahorses \n",
    "- type of sample: Systematic Sample\n",
    "- quantity of interest: amount of plankton eaten"
   ]
  },
  {
   "cell_type": "markdown",
   "metadata": {},
   "source": [
    "[Back to top](#top)\n",
    "\n",
    "<br>\n",
    "\n",
    "<a/ id='p2'></a>\n",
    "\n",
    "### (20 points) Problem 2\n",
    "***\n",
    "\n",
    "A method to investigate the sensitivity of the sample mean and sample median to extreme outliers and changes in the dataset is to replace one or more elements in a given dataset by a number $y$ and investigate the effect when $y$ changes. To illustrate this, consider the following dataset:\n",
    " \n",
    "$$  4.3 \\quad 5.2 \\quad 5.0 \\quad y \\quad 3.8 \\quad 4.1 \\quad 5.5 \\quad 1.9 $$\n",
    "\n",
    "\n"
   ]
  },
  {
   "cell_type": "markdown",
   "metadata": {},
   "source": [
    "**Part A:** Compute the sample mean and sample median for $y=1.5$. Then compute both quantities again for $y=6$."
   ]
  },
  {
   "cell_type": "code",
   "execution_count": 411,
   "metadata": {},
   "outputs": [
    {
     "name": "stdout",
     "output_type": "stream",
     "text": [
      "Array_1:  [4.3, 5.2, 5.0, 1.5, 3.8, 4.1, 5.5, 1.9]\n",
      "Mean of Array_1:  3.9125\n",
      "Array_2:  [4.3, 5.2, 5.0, 6, 3.8, 4.1, 5.5, 1.9]\n",
      "Mean of Array_2:  4.475\n"
     ]
    }
   ],
   "source": [
    "arr = [4.3,5.2,5.0,1.5,3.8,4.1,5.5,1.9]\n",
    "print (\"Array_1: \" ,arr)\n",
    "print (\"Mean of Array_1: \", np.mean(arr))\n",
    "arr1 = [4.3,5.2,5.0,6,3.8,4.1,5.5,1.9]\n",
    "print (\"Array_2: \" ,arr1)\n",
    "print (\"Mean of Array_2: \", np.mean(arr1))\n"
   ]
  },
  {
   "cell_type": "markdown",
   "metadata": {},
   "source": [
    "**Part B:** Is there a value for $y$ that would make the mean of the data equal to 6? If so, calculate the value of $y$ that makes the mean equal to 6. If not, clearly explain why not.\n",
    "    \n",
    "Is there a value for $y$ that would make the median of the data equal to 6? If so, calculate the values of $y$ that makes the median equal to 6. If not, clearly explain why not."
   ]
  },
  {
   "cell_type": "code",
   "execution_count": 412,
   "metadata": {},
   "outputs": [
    {
     "name": "stdout",
     "output_type": "stream",
     "text": [
      "Array_3:  [4.3, 5.2, 5.0, 18.2, 3.8, 4.1, 5.5, 1.9]\n",
      "Adding value of 18.2 as y will make the mean of the array 6\n",
      "Mean of Array_3:  6.0\n"
     ]
    }
   ],
   "source": [
    "arr = [4.3,5.2,5.0,18.2,3.8,4.1,5.5,1.9]\n",
    "print (\"Array_3: \" ,arr)\n",
    "print (\"Adding value of 18.2 as y will make the mean of the array 6\")\n",
    "print (\"Mean of Array_3: \", np.mean(arr))"
   ]
  },
  {
   "cell_type": "markdown",
   "metadata": {},
   "source": [
    "No, we cannot find a value of y that would make the median equal to 6. There does not exist a value greater then 6 in the data set before the addition of y, so the addition of just one number,y, could not possibly result in the ordered middle of the data set to be equal to 6. "
   ]
  },
  {
   "cell_type": "markdown",
   "metadata": {},
   "source": [
    "**Part C**: Compute the sample variance and the sample standard deviation for the original dataset given in part A, with $y=6$."
   ]
  },
  {
   "cell_type": "code",
   "execution_count": 413,
   "metadata": {},
   "outputs": [
    {
     "name": "stdout",
     "output_type": "stream",
     "text": [
      "Array_4:  [4.3, 5.2, 5.0, 6, 3.8, 4.1, 5.5, 1.9]\n",
      "Sample Variance of Array_2: 1.43\n",
      "Array_4:  [4.3, 5.2, 5.0, 6, 3.8, 4.1, 5.5, 1.9]\n",
      "Sample Standard Deviation of Array_2: 1.20\n"
     ]
    }
   ],
   "source": [
    "arr1 = [4.3,5.2,5.0,6,3.8,4.1,5.5,1.9]\n",
    "print (\"Array_4: \" ,arr1)\n",
    "a= np.var(arr1)\n",
    "print (\"Sample Variance of Array_2: \"\"%.2f\" % a)\n",
    "\n",
    "\n",
    "arr2 = [4.3,5.2,5.0,6,3.8,4.1,5.5,1.9]\n",
    "print (\"Array_4: \" ,arr2)\n",
    "b = np.std(arr2)\n",
    "print (\"Sample Standard Deviation of Array_2: \"\"%.2f\" % b)"
   ]
  },
  {
   "cell_type": "markdown",
   "metadata": {},
   "source": [
    "**Part D**: Compute the sample median for the following cases: \n",
    "- $y=5$ \n",
    "- $y=50$ \n",
    "- $y=4.36$ \n",
    "- $y \\to \\infty$ \n",
    "- $y \\to -\\infty$"
   ]
  },
  {
   "cell_type": "code",
   "execution_count": 414,
   "metadata": {},
   "outputs": [
    {
     "name": "stdout",
     "output_type": "stream",
     "text": [
      "adding y=5 to array\n",
      "Median (y=5):  4.65\n",
      "adding y=50 to array\n",
      "Median (y=50):  4.65\n",
      "adding y=4.36 to array\n",
      "Median (y=4.36):  4.33\n",
      "adding y=100000 to array\n",
      "Median (y=100000):  4.65\n",
      "adding y=-10000 to array\n",
      "Median (y=-10000):  4.20\n"
     ]
    }
   ],
   "source": [
    "print(\"adding y=5 to array\")\n",
    "arr1 = [4.3,5.2,5.0,5,3.8,4.1,5.5,1.9]\n",
    "print (\"Median (y=5): \" ,np.median(arr1))\n",
    "\n",
    "print(\"adding y=50 to array\")\n",
    "arr1 = [4.3,5.2,5.0,50,3.8,4.1,5.5,1.9]\n",
    "print (\"Median (y=50): \" ,np.median(arr1))\n",
    "\n",
    "print(\"adding y=4.36 to array\")\n",
    "arr1 = [4.3,5.2,5.0,4.36,3.8,4.1,5.5,1.9]\n",
    "print (\"Median (y=4.36): \" ,np.median(arr1))\n",
    "\n",
    "print(\"adding y=100000 to array\")\n",
    "arr1 = [4.3,5.2,5.0,100000,3.8,4.1,5.5,1.9]\n",
    "print (\"Median (y=100000): \" ,np.median(arr1))\n",
    "\n",
    "print(\"adding y=-10000 to array\")\n",
    "arr1 = [4.3,5.2,5.0,-10000,3.8,4.1,5.5,1.9]\n",
    "print (\"Median (y=-10000): \" ,\"%.2f\" %np.median(arr1))\n",
    "\n"
   ]
  },
  {
   "cell_type": "markdown",
   "metadata": {},
   "source": [
    "**Part E**: Think about the previous parts, above, and describe in words or mathematical notation the answers to the following two questions:\n",
    "\n",
    "- By varying $y$, what is the set of all the possible values that the sample mean could take on?\n",
    "- By varying $y$, what is the set of all the possible values that the sample median could take on? Specifically, for what sets of $y$ values does the median take on its different possible values?"
   ]
  },
  {
   "cell_type": "markdown",
   "metadata": {},
   "source": [
    "- By changing y, the mean can vary from [$- \\infty, \\infty$].\n",
    "- For any y $ \\leq $ 4.1, the median of this data set will be 4.20. For any y $\\geq$ 5.0, the median will be 4.65. For any y $4.1 \\leq y \\leq 5.0$ , the median will range between [4.20,4.65]"
   ]
  },
  {
   "cell_type": "markdown",
   "metadata": {},
   "source": [
    "**Part F**: Describe in words or mathematical notation, what happens to the sample standard deviation when $y$ is varied in the following ways: \n",
    " \n",
    "- $y \\to \\infty$ \n",
    "- $y \\to \\bar{x}$\n"
   ]
  },
  {
   "cell_type": "code",
   "execution_count": null,
   "metadata": {},
   "outputs": [],
   "source": []
  },
  {
   "cell_type": "markdown",
   "metadata": {},
   "source": [
    "- $y \\to \\infty$ : as y approaches $\\infty$, the standard deviation $ \\to \\infty$. As y gets larger, the mean increases. Because standard deviation is a result of subtracting mean from individual points, t a learger mean would cause a larger standard deviation.\n",
    "- $y \\to \\bar{x}$ : standard deviation would decrease. Because the standard deviation is a result of point y - mean, as mean and point y get close in values, this subtraction would mean a very small value."
   ]
  },
  {
   "cell_type": "markdown",
   "metadata": {},
   "source": []
  },
  {
   "cell_type": "markdown",
   "metadata": {},
   "source": [
    "[Back to top](#top)\n",
    "<a/ id='p3'></a>\n",
    "\n",
    "## (20 pts) Problem 3 \n",
    "***\n",
    "\n",
    "Let $x_1, x_2, \\ldots, x_n$ be $n$ observations of a variable of interest.  Recall that the sample mean $\\bar{x}_n$ and sample variance $s^2_n$ are given by \n",
    "\n",
    "$$\n",
    "\\bar{x}_n = \\frac{1}{n}\\sum_{k=1}^n x_k \\quad \\textrm{and} \\quad s^2_n = \\frac{1}{n-1}\\sum_{k=1}^n \\left( x_k - \\bar{x}_n\\right)^2 \\qquad \\tag{Equation 1}\n",
    "$$\n",
    "\n",
    "where here the subscript $n$'s indicate the number of observations in the sample. Notice that a natural computation of the variance requires two passes over the data: one to compute the mean, and a second to subtract the mean from each observation and compute the sum of squares. It is often useful to be able to compute the variance in a single pass, inspecting each value $x_k$ only once; for example, when the data are being collected without enough storage to keep all the values, or when costs of memory access dominate those of computation. In this problem you will explore two methods for such an _online_ computation of the mean.  \n",
    "\n",
    "**Part A**: Show algebraically that the following relation holds between the mean of the first $n-1$ observations and the mean of all $n$ observations: \n",
    "\n",
    "$$\n",
    "\\bar{x}_n = \\bar{x}_{n-1} + \\frac{x_n - \\bar{x}_{n-1}}{n}\n",
    "$$\n",
    "\n",
    "Note that you can get an expression for $\\bar{x}_{n-1}$ by simply replacing $n$ in Equation 1 above with $n-1$."
   ]
  },
  {
   "cell_type": "markdown",
   "metadata": {},
   "source": [
    "**Part B**: Write a function `my_sample_mean` that takes as its input a numpy array and returns the mean of that numpy array using the formulas from class (written above). Write another function `my_sample_var` that takes as its input a numpy array and returns the variance of that numpy array, again using the formulas from class (written above). You may **not** use any built-in sample mean or variance functions."
   ]
  },
  {
   "cell_type": "markdown",
   "metadata": {},
   "source": []
  },
  {
   "cell_type": "code",
   "execution_count": 415,
   "metadata": {},
   "outputs": [
    {
     "name": "stdout",
     "output_type": "stream",
     "text": [
      "Mean:  2.5\n",
      "Variance:  1.67\n"
     ]
    }
   ],
   "source": [
    "\n",
    "def my_sample_mean(arr):\n",
    "    count = arr.size\n",
    "    sum = 0\n",
    "    for x in range(0,count):\n",
    "        sum += arr[x]\n",
    "    mean = sum/count\n",
    "    print(\"Mean: \" ,mean)\n",
    "    return\n",
    "\n",
    "\n",
    "def my_sample_var(arr):\n",
    "    count = arr.size\n",
    "    sum = 0\n",
    "    for x in range(0,count):\n",
    "        sum += arr[x]\n",
    "    mean = sum/count\n",
    "    \n",
    "    summation=0\n",
    "    for x in range(0,count):\n",
    "        value = (arr[x] - mean)\n",
    "        value = value * value\n",
    "        summation = summation + value\n",
    "    variance = summation / (count-1)\n",
    "    print(\"Variance: \" ,\"%.2f\" %variance)\n",
    "    return\n",
    "\n",
    "x=np.array([1,2,3,4])\n",
    "my_sample_mean(x)\n",
    "my_sample_var(x)"
   ]
  },
  {
   "cell_type": "markdown",
   "metadata": {},
   "source": [
    "**Part C**: Use your functions from Part B to compute the sample mean and sample variance of the following array, which contains the plankton consumed by a sample of 12 seahorses.\n",
    "\n",
    "`pla = [98, 26, 83, 56, 60, 39, 81, 19, 72, 78, 94, 42]`"
   ]
  },
  {
   "cell_type": "code",
   "execution_count": 416,
   "metadata": {},
   "outputs": [
    {
     "name": "stdout",
     "output_type": "stream",
     "text": [
      "Mean:  62.33\n",
      "Variance:  690.06\n"
     ]
    },
    {
     "data": {
      "text/plain": [
       "690.060606060606"
      ]
     },
     "execution_count": 416,
     "metadata": {},
     "output_type": "execute_result"
    }
   ],
   "source": [
    "def my_sample_mean(arr):\n",
    "    count = arr.size\n",
    "    sum = 0\n",
    "    for x in range(0,count):\n",
    "        sum += arr[x]\n",
    "    mean = sum/count\n",
    "    print(\"Mean: \" ,\"%.2f\" %mean)\n",
    "    return mean\n",
    "\n",
    "\n",
    "def my_sample_var(arr):\n",
    "    count = arr.size\n",
    "    sum = 0\n",
    "    for x in range(0,count):\n",
    "        sum += arr[x]\n",
    "    mean = sum/count\n",
    "    \n",
    "    summation=0\n",
    "    for x in range(0,count):\n",
    "        value = (arr[x] - mean)\n",
    "        value = value * value\n",
    "        summation = summation + value\n",
    "    variance = summation / (count-1)\n",
    "    print(\"Variance: \" ,\"%.2f\" %variance)\n",
    "    return variance\n",
    "\n",
    "pla=np.array([98, 26, 83, 56, 60, 39, 81, 19, 72, 78, 94, 42])\n",
    "my_sample_mean(pla)\n",
    "my_sample_var(pla)"
   ]
  },
  {
   "cell_type": "markdown",
   "metadata": {},
   "source": [
    "**Part D**: Implement a third function called `update_mean` that implements the formula whose validity you proved in Part A. Note that this function will need to take as its input three things: $x_n$, $\\bar{x}_{n-1}$ and $n$. A function header is provided for you. This function may be auto-graded, so please do not change the given API - the order of inputs matters! If you change it, you might lose points.\n",
    "\n",
    "Use this function to compute the values that you get from taking the mean of the first seahorse's plankton, the first two seahorses, the first three seahorses, and so on up to all of the seahorse data points. Store your plankton means in a numpy array called `pla_means`.  Report all 12 estimates in `pla_means`."
   ]
  },
  {
   "cell_type": "code",
   "execution_count": 417,
   "metadata": {},
   "outputs": [],
   "source": [
    "# Given API:\n",
    "def update_mean(prev_mean, xn, n):\n",
    "    # your code goes here!\n",
    "    return #the updated mean"
   ]
  },
  {
   "cell_type": "markdown",
   "metadata": {},
   "source": [
    "To ensure your function complies with the given API, run this small test, where we suppose we have a mean of $\\bar{x}_n = 1$ with the first $2$ data points (`prev_mean`), and we update this with the 3rd ($n=3$) data point which is $x_3=2$:"
   ]
  },
  {
   "cell_type": "code",
   "execution_count": 418,
   "metadata": {},
   "outputs": [
    {
     "ename": "AssertionError",
     "evalue": "Warning: function seems broken.",
     "output_type": "error",
     "traceback": [
      "\u001b[0;31m---------------------------------------------------------------------------\u001b[0m",
      "\u001b[0;31mAssertionError\u001b[0m                            Traceback (most recent call last)",
      "\u001b[0;32m<ipython-input-418-82cfd87b4c57>\u001b[0m in \u001b[0;36m<module>\u001b[0;34m()\u001b[0m\n\u001b[0;32m----> 1\u001b[0;31m \u001b[0;32massert\u001b[0m \u001b[0mupdate_mean\u001b[0m\u001b[0;34m(\u001b[0m\u001b[0;36m1\u001b[0m\u001b[0;34m,\u001b[0m\u001b[0;36m2\u001b[0m\u001b[0;34m,\u001b[0m\u001b[0;36m3\u001b[0m\u001b[0;34m)\u001b[0m\u001b[0;34m==\u001b[0m\u001b[0;36m4\u001b[0m\u001b[0;34m/\u001b[0m\u001b[0;36m3\u001b[0m\u001b[0;34m,\u001b[0m \u001b[0;34m\"Warning: function seems broken.\"\u001b[0m\u001b[0;34m\u001b[0m\u001b[0m\n\u001b[0m",
      "\u001b[0;31mAssertionError\u001b[0m: Warning: function seems broken."
     ]
    }
   ],
   "source": [
    "assert update_mean(1,2,3)==4/3, \"Warning: function seems broken.\""
   ]
  },
  {
   "cell_type": "code",
   "execution_count": null,
   "metadata": {},
   "outputs": [],
   "source": []
  },
  {
   "cell_type": "markdown",
   "metadata": {},
   "source": [
    "[Back to top](#top)\n",
    "\n",
    "<a/ id='p4'></a>\n",
    "\n",
    "## (25 pts) Problem 4\n",
    "*** \n",
    "Some claim that the final hours aboard the RMS Titanic were marked by \"class warfare\" in which the people with first-class tickets took all the good spots on the lifeboats; others claim that the final hours were characterized by male chivalry, in which the men valiantly gave up their positions in the boats and succumbed bravely to the depths of the Atlantic. \n",
    "\n",
    "We have the data on survival rates by class and by sex, so let's figure out whether there is evidence for these scenarios. Access the Titanic data in `titanic_data.csv` and store it in a Pandas DataFrame. The data contains information pertaining to class status (**Pclass**), survival (**Survived**), and gender (**Sex**) of passengers, among other things. Be sure to use the `titanic_data.csv` data set, *not* the `clean_titanic_data` file from the in-class notebook."
   ]
  },
  {
   "cell_type": "code",
   "execution_count": 419,
   "metadata": {},
   "outputs": [
    {
     "data": {
      "text/html": [
       "<div>\n",
       "<style scoped>\n",
       "    .dataframe tbody tr th:only-of-type {\n",
       "        vertical-align: middle;\n",
       "    }\n",
       "\n",
       "    .dataframe tbody tr th {\n",
       "        vertical-align: top;\n",
       "    }\n",
       "\n",
       "    .dataframe thead th {\n",
       "        text-align: right;\n",
       "    }\n",
       "</style>\n",
       "<table border=\"1\" class=\"dataframe\">\n",
       "  <thead>\n",
       "    <tr style=\"text-align: right;\">\n",
       "      <th></th>\n",
       "      <th>PassengerId</th>\n",
       "      <th>Survived</th>\n",
       "      <th>Pclass</th>\n",
       "      <th>Name</th>\n",
       "      <th>Sex</th>\n",
       "      <th>Age</th>\n",
       "      <th>SibSp</th>\n",
       "      <th>Parch</th>\n",
       "      <th>Ticket</th>\n",
       "      <th>Fare</th>\n",
       "      <th>Cabin</th>\n",
       "      <th>Embarked</th>\n",
       "    </tr>\n",
       "  </thead>\n",
       "  <tbody>\n",
       "    <tr>\n",
       "      <th>0</th>\n",
       "      <td>1</td>\n",
       "      <td>0</td>\n",
       "      <td>3</td>\n",
       "      <td>Braund, Mr. Owen Harris</td>\n",
       "      <td>male</td>\n",
       "      <td>36.0</td>\n",
       "      <td>1</td>\n",
       "      <td>0</td>\n",
       "      <td>A/5 21171</td>\n",
       "      <td>7.2500</td>\n",
       "      <td>NaN</td>\n",
       "      <td>S</td>\n",
       "    </tr>\n",
       "    <tr>\n",
       "      <th>1</th>\n",
       "      <td>2</td>\n",
       "      <td>1</td>\n",
       "      <td>1</td>\n",
       "      <td>Cumings, Mrs. John Bradley (Florence Briggs Th...</td>\n",
       "      <td>female</td>\n",
       "      <td>18.0</td>\n",
       "      <td>1</td>\n",
       "      <td>0</td>\n",
       "      <td>PC 17599</td>\n",
       "      <td>71.2833</td>\n",
       "      <td>C85</td>\n",
       "      <td>C</td>\n",
       "    </tr>\n",
       "    <tr>\n",
       "      <th>2</th>\n",
       "      <td>3</td>\n",
       "      <td>1</td>\n",
       "      <td>3</td>\n",
       "      <td>Heikkinen, Miss. Laina</td>\n",
       "      <td>female</td>\n",
       "      <td>14.0</td>\n",
       "      <td>0</td>\n",
       "      <td>0</td>\n",
       "      <td>STON/O2. 3101282</td>\n",
       "      <td>7.9250</td>\n",
       "      <td>NaN</td>\n",
       "      <td>S</td>\n",
       "    </tr>\n",
       "    <tr>\n",
       "      <th>3</th>\n",
       "      <td>4</td>\n",
       "      <td>1</td>\n",
       "      <td>1</td>\n",
       "      <td>Futrelle, Mrs. Jacques Heath (Lily May Peel)</td>\n",
       "      <td>female</td>\n",
       "      <td>27.0</td>\n",
       "      <td>1</td>\n",
       "      <td>0</td>\n",
       "      <td>113803</td>\n",
       "      <td>53.1000</td>\n",
       "      <td>C123</td>\n",
       "      <td>S</td>\n",
       "    </tr>\n",
       "    <tr>\n",
       "      <th>4</th>\n",
       "      <td>5</td>\n",
       "      <td>0</td>\n",
       "      <td>3</td>\n",
       "      <td>Allen, Mr. William Henry</td>\n",
       "      <td>male</td>\n",
       "      <td>63.0</td>\n",
       "      <td>0</td>\n",
       "      <td>0</td>\n",
       "      <td>373450</td>\n",
       "      <td>8.0500</td>\n",
       "      <td>NaN</td>\n",
       "      <td>S</td>\n",
       "    </tr>\n",
       "  </tbody>\n",
       "</table>\n",
       "</div>"
      ],
      "text/plain": [
       "   PassengerId  Survived  Pclass  \\\n",
       "0            1         0       3   \n",
       "1            2         1       1   \n",
       "2            3         1       3   \n",
       "3            4         1       1   \n",
       "4            5         0       3   \n",
       "\n",
       "                                                Name     Sex   Age  SibSp  \\\n",
       "0                            Braund, Mr. Owen Harris    male  36.0      1   \n",
       "1  Cumings, Mrs. John Bradley (Florence Briggs Th...  female  18.0      1   \n",
       "2                             Heikkinen, Miss. Laina  female  14.0      0   \n",
       "3       Futrelle, Mrs. Jacques Heath (Lily May Peel)  female  27.0      1   \n",
       "4                           Allen, Mr. William Henry    male  63.0      0   \n",
       "\n",
       "   Parch            Ticket     Fare Cabin Embarked  \n",
       "0      0         A/5 21171   7.2500   NaN        S  \n",
       "1      0          PC 17599  71.2833   C85        C  \n",
       "2      0  STON/O2. 3101282   7.9250   NaN        S  \n",
       "3      0            113803  53.1000  C123        S  \n",
       "4      0            373450   8.0500   NaN        S  "
      ]
     },
     "execution_count": 419,
     "metadata": {},
     "output_type": "execute_result"
    }
   ],
   "source": [
    "df = pd.read_csv(\"titanic_data.csv\")\n",
    "df.head()\n"
   ]
  },
  {
   "cell_type": "markdown",
   "metadata": {},
   "source": [
    "**Part A**: Consider the two claims: class warfare, and male chivalry. Suppose that class warfare occurred in the final hours aboard the Titanic.  What patterns might you expect to see in the data?  Suppose that male chivalry was widespread during the final hours instead. What patterns might you then expect to see in the data?  Explain both of these hypothesized patterns in words. Are these two hypotheses mutually exclusive or not?"
   ]
  },
  {
   "cell_type": "markdown",
   "metadata": {},
   "source": [
    "- class warfare: I would expect to see a larger number of survivers from class 1 as opposed to survivors from classes 2 or 3.\n",
    "- male chivalry: I would expect to see a larger number of females surviving, as chivalry was not dead back then and males sacraficied their lives. "
   ]
  },
  {
   "cell_type": "markdown",
   "metadata": {},
   "source": [
    "**Part B**: Use Pandas (see: `dropna`) methods to create a clean data set by removing any rows from the DataFrame that are missing values corresponding to **Survived**, **Pclass**, **Age**, or **Sex**. Store the clean data in a DataFrame called dfTitanic. Be sure to show any exploratory work determining if/where there are rows with missing values."
   ]
  },
  {
   "cell_type": "code",
   "execution_count": 420,
   "metadata": {},
   "outputs": [
    {
     "data": {
      "text/html": [
       "<div>\n",
       "<style scoped>\n",
       "    .dataframe tbody tr th:only-of-type {\n",
       "        vertical-align: middle;\n",
       "    }\n",
       "\n",
       "    .dataframe tbody tr th {\n",
       "        vertical-align: top;\n",
       "    }\n",
       "\n",
       "    .dataframe thead th {\n",
       "        text-align: right;\n",
       "    }\n",
       "</style>\n",
       "<table border=\"1\" class=\"dataframe\">\n",
       "  <thead>\n",
       "    <tr style=\"text-align: right;\">\n",
       "      <th></th>\n",
       "      <th>PassengerId</th>\n",
       "      <th>Survived</th>\n",
       "      <th>Pclass</th>\n",
       "      <th>Name</th>\n",
       "      <th>Sex</th>\n",
       "      <th>Age</th>\n",
       "      <th>SibSp</th>\n",
       "      <th>Parch</th>\n",
       "      <th>Ticket</th>\n",
       "      <th>Fare</th>\n",
       "      <th>Cabin</th>\n",
       "      <th>Embarked</th>\n",
       "    </tr>\n",
       "  </thead>\n",
       "  <tbody>\n",
       "    <tr>\n",
       "      <th>0</th>\n",
       "      <td>1</td>\n",
       "      <td>0</td>\n",
       "      <td>3</td>\n",
       "      <td>Braund, Mr. Owen Harris</td>\n",
       "      <td>male</td>\n",
       "      <td>36.0</td>\n",
       "      <td>1</td>\n",
       "      <td>0</td>\n",
       "      <td>A/5 21171</td>\n",
       "      <td>7.2500</td>\n",
       "      <td>NaN</td>\n",
       "      <td>S</td>\n",
       "    </tr>\n",
       "    <tr>\n",
       "      <th>1</th>\n",
       "      <td>2</td>\n",
       "      <td>1</td>\n",
       "      <td>1</td>\n",
       "      <td>Cumings, Mrs. John Bradley (Florence Briggs Th...</td>\n",
       "      <td>female</td>\n",
       "      <td>18.0</td>\n",
       "      <td>1</td>\n",
       "      <td>0</td>\n",
       "      <td>PC 17599</td>\n",
       "      <td>71.2833</td>\n",
       "      <td>C85</td>\n",
       "      <td>C</td>\n",
       "    </tr>\n",
       "    <tr>\n",
       "      <th>2</th>\n",
       "      <td>3</td>\n",
       "      <td>1</td>\n",
       "      <td>3</td>\n",
       "      <td>Heikkinen, Miss. Laina</td>\n",
       "      <td>female</td>\n",
       "      <td>14.0</td>\n",
       "      <td>0</td>\n",
       "      <td>0</td>\n",
       "      <td>STON/O2. 3101282</td>\n",
       "      <td>7.9250</td>\n",
       "      <td>NaN</td>\n",
       "      <td>S</td>\n",
       "    </tr>\n",
       "    <tr>\n",
       "      <th>3</th>\n",
       "      <td>4</td>\n",
       "      <td>1</td>\n",
       "      <td>1</td>\n",
       "      <td>Futrelle, Mrs. Jacques Heath (Lily May Peel)</td>\n",
       "      <td>female</td>\n",
       "      <td>27.0</td>\n",
       "      <td>1</td>\n",
       "      <td>0</td>\n",
       "      <td>113803</td>\n",
       "      <td>53.1000</td>\n",
       "      <td>C123</td>\n",
       "      <td>S</td>\n",
       "    </tr>\n",
       "    <tr>\n",
       "      <th>4</th>\n",
       "      <td>5</td>\n",
       "      <td>0</td>\n",
       "      <td>3</td>\n",
       "      <td>Allen, Mr. William Henry</td>\n",
       "      <td>male</td>\n",
       "      <td>63.0</td>\n",
       "      <td>0</td>\n",
       "      <td>0</td>\n",
       "      <td>373450</td>\n",
       "      <td>8.0500</td>\n",
       "      <td>NaN</td>\n",
       "      <td>S</td>\n",
       "    </tr>\n",
       "  </tbody>\n",
       "</table>\n",
       "</div>"
      ],
      "text/plain": [
       "   PassengerId  Survived  Pclass  \\\n",
       "0            1         0       3   \n",
       "1            2         1       1   \n",
       "2            3         1       3   \n",
       "3            4         1       1   \n",
       "4            5         0       3   \n",
       "\n",
       "                                                Name     Sex   Age  SibSp  \\\n",
       "0                            Braund, Mr. Owen Harris    male  36.0      1   \n",
       "1  Cumings, Mrs. John Bradley (Florence Briggs Th...  female  18.0      1   \n",
       "2                             Heikkinen, Miss. Laina  female  14.0      0   \n",
       "3       Futrelle, Mrs. Jacques Heath (Lily May Peel)  female  27.0      1   \n",
       "4                           Allen, Mr. William Henry    male  63.0      0   \n",
       "\n",
       "   Parch            Ticket     Fare Cabin Embarked  \n",
       "0      0         A/5 21171   7.2500   NaN        S  \n",
       "1      0          PC 17599  71.2833   C85        C  \n",
       "2      0  STON/O2. 3101282   7.9250   NaN        S  \n",
       "3      0            113803  53.1000  C123        S  \n",
       "4      0            373450   8.0500   NaN        S  "
      ]
     },
     "execution_count": 420,
     "metadata": {},
     "output_type": "execute_result"
    }
   ],
   "source": [
    "dfTitanic = df.dropna(axis = 0, how='any', subset=['Survived' , 'Pclass' , 'Age' , 'Sex'])\n",
    "dfTitanic.head()"
   ]
  },
  {
   "cell_type": "markdown",
   "metadata": {},
   "source": [
    "**Part C**: Compute the fraction of survivors according to class and gender. There are 3 passenger classes and 2 sexes in the data set, so you should report all 6 possible combinations.  Then, answer 3 questions:\n",
    "* **(i)** Within each passenger class, were men or women more/less/equally likely to survive?\n",
    "* **(ii)**  Looking at only the male or only the female passengers, how is passenger class related to the category's survival rate?\n",
    "* **(iii)**  Did men in first class or women in third class have a higher survival rate? "
   ]
  },
  {
   "cell_type": "code",
   "execution_count": 421,
   "metadata": {},
   "outputs": [
    {
     "name": "stdout",
     "output_type": "stream",
     "text": [
      "Total Survivors:  279\n",
      "Number of male Survivors class 3: 39\n",
      "Male survivors fraction:  0.14\n",
      "Number of female Survivors class 3: 62\n",
      "Female survivors fraction:  0.22\n",
      "Number of male Survivors class 2: 16\n",
      "Male survivors fraction:  0.06\n",
      "Number of female Survivors class 2: 54\n",
      "Female survivors fraction:  0.19\n",
      "Number of male Survivors class 1: 36\n",
      "Male survivors fraction:  0.13\n",
      "Number of female Survivors class 1: 72\n",
      "Female survivors fraction:  0.26\n"
     ]
    }
   ],
   "source": [
    "totalSur = dfTitanic.loc[dfTitanic.Survived == 1]\n",
    "totalSur = totalSur.shape[0]\n",
    "print(\"Total Survivors: \" ,totalSur)\n",
    "\n",
    "numMale3 = dfTitanic.loc[(dfTitanic.Sex=='male') & (dfTitanic.Survived == 1) & (dfTitanic.Pclass == 3)]\n",
    "print(\"Number of male Survivors class 3:\" , numMale3.shape[0])\n",
    "print(\"Male survivors fraction: \", \"%.2f\"%(numMale3.shape[0]/totalSur))\n",
    "\n",
    "numFemale3 = dfTitanic.loc[(dfTitanic.Sex=='female') & (dfTitanic.Survived == 1) & (dfTitanic.Pclass == 3)]\n",
    "print(\"Number of female Survivors class 3:\" , numFemale3.shape[0])\n",
    "print(\"Female survivors fraction: \", \"%.2f\"% (numFemale3.shape[0]/totalSur))\n",
    "\n",
    "numMale2 = dfTitanic.loc[(dfTitanic.Sex=='male') & (dfTitanic.Survived == 1) & (dfTitanic.Pclass == 2)]\n",
    "print(\"Number of male Survivors class 2:\" , numMale2.shape[0])\n",
    "print(\"Male survivors fraction: \", \"%.2f\"%(numMale2.shape[0]/totalSur))\n",
    "\n",
    "numFemale2 = dfTitanic.loc[(dfTitanic.Sex=='female') & (dfTitanic.Survived == 1) & (dfTitanic.Pclass == 2)]\n",
    "print(\"Number of female Survivors class 2:\" , numFemale2.shape[0])\n",
    "print(\"Female survivors fraction: \", \"%.2f\"%(numFemale2.shape[0]/totalSur))\n",
    "\n",
    "numMale1 = dfTitanic.loc[(dfTitanic.Sex=='male') & (dfTitanic.Survived == 1) & (dfTitanic.Pclass == 1)]\n",
    "print(\"Number of male Survivors class 1:\" , numMale1.shape[0])\n",
    "print(\"Male survivors fraction: \", \"%.2f\"%(numMale1.shape[0]/totalSur))\n",
    "\n",
    "numFemale1 = dfTitanic.loc[(dfTitanic.Sex=='female') & (dfTitanic.Survived == 1) & (dfTitanic.Pclass == 1)]\n",
    "print(\"Number of female Survivors class 1:\" , numFemale1.shape[0])\n",
    "print(\"Female survivors fraction: \", \"%.2f\"%(numFemale1.shape[0]/totalSur))"
   ]
  },
  {
   "cell_type": "markdown",
   "metadata": {},
   "source": [
    "- (i) based on my calculations, in all three classes, females by far had a better chance of survival. \n",
    "- (ii) For both female and male, passenger class did not have an effect on the survival rate. \n",
    "- (iii) Men in first class had a survival rate of 0.13, as women in third class had a survival rate of 0.22. Thus, women in third had a better survival rate than men in first class. "
   ]
  },
  {
   "cell_type": "markdown",
   "metadata": {},
   "source": [
    "**Part D**: Plot a histogram of all of the passenger ages, using the bin edges $[0,5,10,\\ldots,70,75,80]$ defined by `my_bins` below. How would you characterize the distribution of **AGE**? (By _characterize_ we mean that you should indicate whether the data are unimodal, bimodal, multimodal, symmetric, negatively skewed, positively skewed, etc.)  Be sure to label your axes and use your figure to justify your conclusions."
   ]
  },
  {
   "cell_type": "code",
   "execution_count": 422,
   "metadata": {},
   "outputs": [],
   "source": [
    "my_bins = range(0,85,5)\n"
   ]
  },
  {
   "cell_type": "code",
   "execution_count": 423,
   "metadata": {},
   "outputs": [
    {
     "ename": "AttributeError",
     "evalue": "'AxesSubplot' object has no attribute 'xlabel'",
     "output_type": "error",
     "traceback": [
      "\u001b[0;31m---------------------------------------------------------------------------\u001b[0m",
      "\u001b[0;31mAttributeError\u001b[0m                            Traceback (most recent call last)",
      "\u001b[0;32m<ipython-input-423-b7566ac996b6>\u001b[0m in \u001b[0;36m<module>\u001b[0;34m()\u001b[0m\n\u001b[1;32m      1\u001b[0m \u001b[0mplotInfo\u001b[0m \u001b[0;34m=\u001b[0m \u001b[0mdfTitanic\u001b[0m\u001b[0;34m[\u001b[0m\u001b[0;34m\"Age\"\u001b[0m\u001b[0;34m]\u001b[0m\u001b[0;34m\u001b[0m\u001b[0m\n\u001b[1;32m      2\u001b[0m \u001b[0mplt\u001b[0m \u001b[0;34m=\u001b[0m \u001b[0mplotInfo\u001b[0m\u001b[0;34m.\u001b[0m\u001b[0mhist\u001b[0m\u001b[0;34m(\u001b[0m\u001b[0mbins\u001b[0m\u001b[0;34m=\u001b[0m\u001b[0mmy_bins\u001b[0m\u001b[0;34m)\u001b[0m\u001b[0;34m\u001b[0m\u001b[0m\n\u001b[0;32m----> 3\u001b[0;31m \u001b[0mplt\u001b[0m\u001b[0;34m.\u001b[0m\u001b[0mxlabel\u001b[0m\u001b[0;34m(\u001b[0m\u001b[0;34m'Passenger Ages'\u001b[0m\u001b[0;34m,\u001b[0m \u001b[0mfontsize\u001b[0m \u001b[0;34m=\u001b[0m\u001b[0;36m10\u001b[0m\u001b[0;34m)\u001b[0m\u001b[0;34m\u001b[0m\u001b[0m\n\u001b[0m\u001b[1;32m      4\u001b[0m \u001b[0mplt\u001b[0m\u001b[0;34m.\u001b[0m\u001b[0mylabel\u001b[0m\u001b[0;34m(\u001b[0m\u001b[0;34m'Number of passengers'\u001b[0m\u001b[0;34m,\u001b[0m \u001b[0mfontsize\u001b[0m \u001b[0;34m=\u001b[0m\u001b[0;36m10\u001b[0m\u001b[0;34m)\u001b[0m\u001b[0;34m\u001b[0m\u001b[0m\n\u001b[1;32m      5\u001b[0m \u001b[0mplt\u001b[0m\u001b[0;34m.\u001b[0m\u001b[0mshow\u001b[0m\u001b[0;34m(\u001b[0m\u001b[0;34m)\u001b[0m\u001b[0;34m\u001b[0m\u001b[0m\n",
      "\u001b[0;31mAttributeError\u001b[0m: 'AxesSubplot' object has no attribute 'xlabel'"
     ]
    },
    {
     "data": {
      "image/png": "[encoded data removed]",
      "text/plain": [
       "<Figure size 432x288 with 1 Axes>"
      ]
     },
     "metadata": {},
     "output_type": "display_data"
    }
   ],
   "source": [
    "plotInfo = dfTitanic[\"Age\"]\n",
    "plt = plotInfo.hist(bins=my_bins)\n",
    "plt.xlabel('Passenger Ages', fontsize =10)\n",
    "plt.ylabel('Number of passengers', fontsize =10)\n",
    "plt.show()"
   ]
  },
  {
   "cell_type": "markdown",
   "metadata": {},
   "source": [
    "Based on our histogram, our data is unimodal. Theres a slight peak between ages 0 and 10, however this peak is not signifigant enough to make our data bimodal. Our histogram displays a positive skew, meaning the median age is lower than the mean age. "
   ]
  },
  {
   "cell_type": "markdown",
   "metadata": {},
   "source": [
    "**Part E**: One might wonder how a passenger's age is related to the likelihood that they would survive the Titanic disaster. To answer this question graphically, plot two density histograms on the same set of axes, showing the distribution of the ages of passengers who survived, and the distribution of the ages of passengers who did not. \n",
    "* Use the bin edges $[0,5,10,\\ldots,70,75,80]$ for both histograms.\n",
    "* This problem is about a *ship* sinking in the *ocean*, so use **coral** and **seagreen** as the facecolors for your histogram boxes.\n",
    "* Plot both histograms on a single set of axes (there should be only one panel in the figure you create), but use Matplotlib/Pandas plotting functionality to make the faces of the histogram boxes somewhat transparent, so both histograms are visible.\n",
    "* Include a legend and label your axes.\n",
    "* Comment on the results. Does your figure suggest that some age ranges are more or less likely to have survived the disaster than other ages? Fully explain your reasoning and use your figure to justify your conclusions.\n",
    "* If you noticed some relationship between age and likelihood of survival, what is one possible explanation?"
   ]
  },
  {
   "cell_type": "code",
   "execution_count": 424,
   "metadata": {},
   "outputs": [
    {
     "data": {
      "text/plain": [
       "<matplotlib.legend.Legend at 0x122233470>"
      ]
     },
     "execution_count": 424,
     "metadata": {},
     "output_type": "execute_result"
    },
    {
     "data": {
      "image/png": "[encoded data removed]",
      "text/plain": [
       "<Figure size 432x288 with 1 Axes>"
      ]
     },
     "metadata": {},
     "output_type": "display_data"
    }
   ],
   "source": [
    "dead = dfTitanic.loc[(dfTitanic.Survived == 0)]\n",
    "ageDead = dead['Age']\n",
    "ageDead.head()\n",
    "plt = ageDead.hist(bins = my_bins ,label = 'DEAD', color = 'coral', density=True,alpha=0.5)\n",
    "\n",
    "alive= dfTitanic.loc[(dfTitanic.Survived == 1)]\n",
    "ageAlive = alive['Age']\n",
    "plt = ageAlive.hist(bins=my_bins,label = 'Alive',color = 'seagreen' , density=True,alpha=0.5)\n",
    "\n",
    "\n",
    "plt.legend(loc = 'upper right')\n"
   ]
  },
  {
   "cell_type": "markdown",
   "metadata": {},
   "source": [
    "Both of the histograms display the same pattern, a positivly skewed, unimodal graph. The two histograms are very similar in shape, but have different values at their peaks. There were a higher density of survivors at young ages (20-30) than there were dead people at the same age frame. "
   ]
  },
  {
   "cell_type": "markdown",
   "metadata": {},
   "source": [
    "**Part F:** In Part E, we plotted two *density* histograms, showing the distributions of ages of passengers that survived or did not survive the Titanic disaster. Why would it be misleading for us to have plotted these as *frequency* histograms instead?"
   ]
  },
  {
   "cell_type": "markdown",
   "metadata": {},
   "source": [
    "Its important not to plot the frequencies becasue "
   ]
  },
  {
   "cell_type": "markdown",
   "metadata": {},
   "source": [
    "**Part G**: Do the data suggest class warfare, male chivalry, or some combination of both characteristics in the final hours aboard the Titanic?  Justify your conclusion based on the computations done above, or do any other analysis that you like, but be sure to clearly justify your conclusion. "
   ]
  },
  {
   "cell_type": "markdown",
   "metadata": {},
   "source": [
    "We cannot conclude any type of class warfare in the final hours of the titanic. However there is very strong evidence that there was male chivarly on board the titanic, based on the fraction of survivors I computed in part C."
   ]
  },
  {
   "cell_type": "markdown",
   "metadata": {},
   "source": [
    "[Back to top](#top)\n",
    "<a/ id='p5'></a>\n",
    "\n",
    "## (25 pts) Problem 5 (monthly patterns)\n",
    "***\n",
    "\n",
    "NOAA's Physical Sciences division (https://www.esrl.noaa.gov/psd) houses an enormous amount of weather data.  Load `hw1BoulderPPT.csv` from the course page for the last 100 years of monthly precipitation data from Boulder.\n",
    "\n",
    "#### a) When the amount of precipitation was nonzero but too small to be recorded, this data set recorded `tr`.  Replace these with zeroes."
   ]
  },
  {
   "cell_type": "code",
   "execution_count": 425,
   "metadata": {},
   "outputs": [
    {
     "data": {
      "text/html": [
       "<div>\n",
       "<style scoped>\n",
       "    .dataframe tbody tr th:only-of-type {\n",
       "        vertical-align: middle;\n",
       "    }\n",
       "\n",
       "    .dataframe tbody tr th {\n",
       "        vertical-align: top;\n",
       "    }\n",
       "\n",
       "    .dataframe thead th {\n",
       "        text-align: right;\n",
       "    }\n",
       "</style>\n",
       "<table border=\"1\" class=\"dataframe\">\n",
       "  <thead>\n",
       "    <tr style=\"text-align: right;\">\n",
       "      <th></th>\n",
       "      <th>Year</th>\n",
       "      <th>JAN</th>\n",
       "      <th>FEB</th>\n",
       "      <th>MAR</th>\n",
       "      <th>APR</th>\n",
       "      <th>MAY</th>\n",
       "      <th>JUN</th>\n",
       "      <th>JUL</th>\n",
       "      <th>AUG</th>\n",
       "      <th>SEP</th>\n",
       "      <th>OCT</th>\n",
       "      <th>NOV</th>\n",
       "      <th>DEC</th>\n",
       "      <th>YEAR TOTAL</th>\n",
       "    </tr>\n",
       "  </thead>\n",
       "  <tbody>\n",
       "    <tr>\n",
       "      <th>0</th>\n",
       "      <td>1919</td>\n",
       "      <td>0</td>\n",
       "      <td>0.32</td>\n",
       "      <td>1.49</td>\n",
       "      <td>1.65</td>\n",
       "      <td>0.88</td>\n",
       "      <td>1.1</td>\n",
       "      <td>7.46</td>\n",
       "      <td>0.95</td>\n",
       "      <td>0.88</td>\n",
       "      <td>1.31</td>\n",
       "      <td>2.07</td>\n",
       "      <td>0.50</td>\n",
       "      <td>18.61</td>\n",
       "    </tr>\n",
       "    <tr>\n",
       "      <th>1</th>\n",
       "      <td>1920</td>\n",
       "      <td>1.22</td>\n",
       "      <td>1.39</td>\n",
       "      <td>0.58</td>\n",
       "      <td>4.07</td>\n",
       "      <td>1.61</td>\n",
       "      <td>1.87</td>\n",
       "      <td>0.68</td>\n",
       "      <td>2.55</td>\n",
       "      <td>0.73</td>\n",
       "      <td>2.43</td>\n",
       "      <td>0.72</td>\n",
       "      <td>0.85</td>\n",
       "      <td>18.70</td>\n",
       "    </tr>\n",
       "    <tr>\n",
       "      <th>2</th>\n",
       "      <td>1921</td>\n",
       "      <td>0.11</td>\n",
       "      <td>0.31</td>\n",
       "      <td>0.77</td>\n",
       "      <td>4.81</td>\n",
       "      <td>1.5</td>\n",
       "      <td>3.62</td>\n",
       "      <td>1.53</td>\n",
       "      <td>2.00</td>\n",
       "      <td>0.17</td>\n",
       "      <td>1.13</td>\n",
       "      <td>0.98</td>\n",
       "      <td>1.46</td>\n",
       "      <td>18.39</td>\n",
       "    </tr>\n",
       "    <tr>\n",
       "      <th>3</th>\n",
       "      <td>1922</td>\n",
       "      <td>0.63</td>\n",
       "      <td>0.59</td>\n",
       "      <td>0.81</td>\n",
       "      <td>3.32</td>\n",
       "      <td>1.02</td>\n",
       "      <td>0.62</td>\n",
       "      <td>1.04</td>\n",
       "      <td>1.50</td>\n",
       "      <td>Tr</td>\n",
       "      <td>1.13</td>\n",
       "      <td>2.58</td>\n",
       "      <td>0.56</td>\n",
       "      <td>13.80</td>\n",
       "    </tr>\n",
       "    <tr>\n",
       "      <th>4</th>\n",
       "      <td>1923</td>\n",
       "      <td>Tr</td>\n",
       "      <td>1.71</td>\n",
       "      <td>2.29</td>\n",
       "      <td>1.29</td>\n",
       "      <td>3.47</td>\n",
       "      <td>4.44</td>\n",
       "      <td>2.46</td>\n",
       "      <td>2.68</td>\n",
       "      <td>0.84</td>\n",
       "      <td>5.43</td>\n",
       "      <td>0.4</td>\n",
       "      <td>0.88</td>\n",
       "      <td>25.89</td>\n",
       "    </tr>\n",
       "  </tbody>\n",
       "</table>\n",
       "</div>"
      ],
      "text/plain": [
       "   Year   JAN   FEB   MAR   APR   MAY   JUN   JUL   AUG   SEP   OCT   NOV  \\\n",
       "0  1919     0  0.32  1.49  1.65  0.88   1.1  7.46  0.95  0.88  1.31  2.07   \n",
       "1  1920  1.22  1.39  0.58  4.07  1.61  1.87  0.68  2.55  0.73  2.43  0.72   \n",
       "2  1921  0.11  0.31  0.77  4.81   1.5  3.62  1.53  2.00  0.17  1.13  0.98   \n",
       "3  1922  0.63  0.59  0.81  3.32  1.02  0.62  1.04  1.50    Tr  1.13  2.58   \n",
       "4  1923    Tr  1.71  2.29  1.29  3.47  4.44  2.46  2.68  0.84  5.43   0.4   \n",
       "\n",
       "    DEC  YEAR TOTAL  \n",
       "0  0.50       18.61  \n",
       "1  0.85       18.70  \n",
       "2  1.46       18.39  \n",
       "3  0.56       13.80  \n",
       "4  0.88       25.89  "
      ]
     },
     "execution_count": 425,
     "metadata": {},
     "output_type": "execute_result"
    }
   ],
   "source": [
    "raindf = pd.read_csv(\"hw1BoulderPPT.csv\")\n",
    "raindf.head()"
   ]
  },
  {
   "cell_type": "code",
   "execution_count": 426,
   "metadata": {},
   "outputs": [
    {
     "data": {
      "text/html": [
       "<div>\n",
       "<style scoped>\n",
       "    .dataframe tbody tr th:only-of-type {\n",
       "        vertical-align: middle;\n",
       "    }\n",
       "\n",
       "    .dataframe tbody tr th {\n",
       "        vertical-align: top;\n",
       "    }\n",
       "\n",
       "    .dataframe thead th {\n",
       "        text-align: right;\n",
       "    }\n",
       "</style>\n",
       "<table border=\"1\" class=\"dataframe\">\n",
       "  <thead>\n",
       "    <tr style=\"text-align: right;\">\n",
       "      <th></th>\n",
       "      <th>Year</th>\n",
       "      <th>JAN</th>\n",
       "      <th>FEB</th>\n",
       "      <th>MAR</th>\n",
       "      <th>APR</th>\n",
       "      <th>MAY</th>\n",
       "      <th>JUN</th>\n",
       "      <th>JUL</th>\n",
       "      <th>AUG</th>\n",
       "      <th>SEP</th>\n",
       "      <th>OCT</th>\n",
       "      <th>NOV</th>\n",
       "      <th>DEC</th>\n",
       "      <th>YEAR TOTAL</th>\n",
       "    </tr>\n",
       "  </thead>\n",
       "  <tbody>\n",
       "    <tr>\n",
       "      <th>0</th>\n",
       "      <td>1919</td>\n",
       "      <td>0</td>\n",
       "      <td>0.32</td>\n",
       "      <td>1.49</td>\n",
       "      <td>1.65</td>\n",
       "      <td>0.88</td>\n",
       "      <td>1.1</td>\n",
       "      <td>7.46</td>\n",
       "      <td>0.95</td>\n",
       "      <td>0.88</td>\n",
       "      <td>1.31</td>\n",
       "      <td>2.07</td>\n",
       "      <td>0.50</td>\n",
       "      <td>18.61</td>\n",
       "    </tr>\n",
       "    <tr>\n",
       "      <th>1</th>\n",
       "      <td>1920</td>\n",
       "      <td>1.22</td>\n",
       "      <td>1.39</td>\n",
       "      <td>0.58</td>\n",
       "      <td>4.07</td>\n",
       "      <td>1.61</td>\n",
       "      <td>1.87</td>\n",
       "      <td>0.68</td>\n",
       "      <td>2.55</td>\n",
       "      <td>0.73</td>\n",
       "      <td>2.43</td>\n",
       "      <td>0.72</td>\n",
       "      <td>0.85</td>\n",
       "      <td>18.70</td>\n",
       "    </tr>\n",
       "    <tr>\n",
       "      <th>2</th>\n",
       "      <td>1921</td>\n",
       "      <td>0.11</td>\n",
       "      <td>0.31</td>\n",
       "      <td>0.77</td>\n",
       "      <td>4.81</td>\n",
       "      <td>1.5</td>\n",
       "      <td>3.62</td>\n",
       "      <td>1.53</td>\n",
       "      <td>2.00</td>\n",
       "      <td>0.17</td>\n",
       "      <td>1.13</td>\n",
       "      <td>0.98</td>\n",
       "      <td>1.46</td>\n",
       "      <td>18.39</td>\n",
       "    </tr>\n",
       "    <tr>\n",
       "      <th>3</th>\n",
       "      <td>1922</td>\n",
       "      <td>0.63</td>\n",
       "      <td>0.59</td>\n",
       "      <td>0.81</td>\n",
       "      <td>3.32</td>\n",
       "      <td>1.02</td>\n",
       "      <td>0.62</td>\n",
       "      <td>1.04</td>\n",
       "      <td>1.50</td>\n",
       "      <td>0</td>\n",
       "      <td>1.13</td>\n",
       "      <td>2.58</td>\n",
       "      <td>0.56</td>\n",
       "      <td>13.80</td>\n",
       "    </tr>\n",
       "    <tr>\n",
       "      <th>4</th>\n",
       "      <td>1923</td>\n",
       "      <td>0</td>\n",
       "      <td>1.71</td>\n",
       "      <td>2.29</td>\n",
       "      <td>1.29</td>\n",
       "      <td>3.47</td>\n",
       "      <td>4.44</td>\n",
       "      <td>2.46</td>\n",
       "      <td>2.68</td>\n",
       "      <td>0.84</td>\n",
       "      <td>5.43</td>\n",
       "      <td>0.4</td>\n",
       "      <td>0.88</td>\n",
       "      <td>25.89</td>\n",
       "    </tr>\n",
       "  </tbody>\n",
       "</table>\n",
       "</div>"
      ],
      "text/plain": [
       "   Year   JAN   FEB   MAR   APR   MAY   JUN   JUL   AUG   SEP   OCT   NOV  \\\n",
       "0  1919     0  0.32  1.49  1.65  0.88   1.1  7.46  0.95  0.88  1.31  2.07   \n",
       "1  1920  1.22  1.39  0.58  4.07  1.61  1.87  0.68  2.55  0.73  2.43  0.72   \n",
       "2  1921  0.11  0.31  0.77  4.81   1.5  3.62  1.53  2.00  0.17  1.13  0.98   \n",
       "3  1922  0.63  0.59  0.81  3.32  1.02  0.62  1.04  1.50     0  1.13  2.58   \n",
       "4  1923     0  1.71  2.29  1.29  3.47  4.44  2.46  2.68  0.84  5.43   0.4   \n",
       "\n",
       "    DEC  YEAR TOTAL  \n",
       "0  0.50       18.61  \n",
       "1  0.85       18.70  \n",
       "2  1.46       18.39  \n",
       "3  0.56       13.80  \n",
       "4  0.88       25.89  "
      ]
     },
     "execution_count": 426,
     "metadata": {},
     "output_type": "execute_result"
    }
   ],
   "source": [
    "raindf = raindf.replace(to_replace=\"Tr\",value = 0)\n",
    "\n",
    "raindf.head()"
   ]
  },
  {
   "cell_type": "markdown",
   "metadata": {},
   "source": [
    "#### b) Generate a series of 12 box plots with month as the x axis and precipitation on the y-axis."
   ]
  },
  {
   "cell_type": "code",
   "execution_count": 427,
   "metadata": {},
   "outputs": [
    {
     "data": {
      "text/plain": [
       "<matplotlib.axes._subplots.AxesSubplot at 0x1262364a8>"
      ]
     },
     "execution_count": 427,
     "metadata": {},
     "output_type": "execute_result"
    },
    {
     "data": {
      "image/png": "[encoded data removed]",
      "text/plain": [
       "<Figure size 432x288 with 1 Axes>"
      ]
     },
     "metadata": {},
     "output_type": "display_data"
    }
   ],
   "source": [
    "dfFloat = raindf.astype(float)\n",
    "temp = dfFloat.drop(columns = [\"Year\",\"YEAR TOTAL\"])\n",
    "temp.boxplot()\n",
    "\n"
   ]
  },
  {
   "cell_type": "markdown",
   "metadata": {},
   "source": [
    "\n",
    "#### c) Atmospheric scientists love to group months seasonally, breaking the year into a Winter season including December, January, February; a Spring included March, April, and May; and so forth. Generate a series of 4 box plots with season as the x axis and precipitation on the y-axis.  How does folding March-April-May into one variable change the mean and standard deviation compared to the data for just April?\n",
    "\n"
   ]
  },
  {
   "cell_type": "code",
   "execution_count": 447,
   "metadata": {},
   "outputs": [
    {
     "data": {
      "text/plain": [
       "<matplotlib.axes._subplots.AxesSubplot at 0x127c6b128>"
      ]
     },
     "execution_count": 447,
     "metadata": {},
     "output_type": "execute_result"
    },
    {
     "data": {
      "image/png": "[encoded data removed]",
      "text/plain": [
       "<Figure size 432x288 with 1 Axes>"
      ]
     },
     "metadata": {},
     "output_type": "display_data"
    }
   ],
   "source": [
    "temp = dfFloat.drop(columns = [\"Year\",\"YEAR TOTAL\"])\n",
    "# spring = temp[['DEC','JAN','FEB']]\n",
    "# s = spring.values\n",
    "# #print(s)\n",
    "# plt.boxplot(s)\n",
    "\n",
    "DECList = temp['DEC'].tolist()\n",
    "JANList = temp['JAN'].tolist()\n",
    "FEBList = temp['FEB'].tolist()\n",
    "winter = DECList + JANList + FEBList\n",
    "\n",
    "MARList = temp['MAR'].tolist()\n",
    "APRList = temp['APR'].tolist()\n",
    "MAYList = temp['MAY'].tolist()\n",
    "spring = MARList + APRList +MAYList\n",
    "\n",
    "JUNList = temp['JUN'].tolist()\n",
    "JULList = temp['JUL'].tolist()\n",
    "AUGList = temp['AUG'].tolist()\n",
    "summer = JUNList + JULList +AUGList\n",
    "\n",
    "SEPList = temp['SEP'].tolist()\n",
    "OCTList = temp['OCT'].tolist()\n",
    "NOVList = temp['NOV'].tolist()\n",
    "fall = SEPList + OCTList +NOVList\n",
    "seasonsDF = pd.DataFrame(\n",
    "    {'Winter': winter,\n",
    "     'Spring':spring,\n",
    "     'Summer':summer,\n",
    "     'Fall':fall\n",
    "    })\n",
    "\n",
    "seasonsDF.boxplot()"
   ]
  },
  {
   "cell_type": "markdown",
   "metadata": {},
   "source": [
    "#### d) Create a density histogram of the September precipitation.  Classify and describe this histogram.  Find the data point associated with September, 2013, and recreate your histogram with that value in a different color or otherwise clearly marked."
   ]
  },
  {
   "cell_type": "code",
   "execution_count": 287,
   "metadata": {
    "scrolled": false
   },
   "outputs": [
    {
     "data": {
      "image/png": "[encoded data removed]",
      "text/plain": [
       "<Figure size 432x288 with 1 Axes>"
      ]
     },
     "metadata": {},
     "output_type": "display_data"
    }
   ],
   "source": [
    "sep = dfFloat[\"SEP\"]\n",
    "plt = sep.hist(label = 'All SEP', color = 'blue', density=True,alpha=0.5)\n"
   ]
  },
  {
   "cell_type": "markdown",
   "metadata": {},
   "source": [
    "This histogram is unimodal, with a very signifigant positive skew. There seems to be an outlier at 17.5 inches of precipitation."
   ]
  },
  {
   "cell_type": "code",
   "execution_count": 290,
   "metadata": {},
   "outputs": [
    {
     "data": {
      "text/plain": [
       "<matplotlib.legend.Legend at 0x1248d6e80>"
      ]
     },
     "execution_count": 290,
     "metadata": {},
     "output_type": "execute_result"
    },
    {
     "data": {
      "image/png": "[encoded data removed]",
      "text/plain": [
       "<Figure size 432x288 with 1 Axes>"
      ]
     },
     "metadata": {},
     "output_type": "display_data"
    }
   ],
   "source": [
    "sep = dfFloat[\"SEP\"]\n",
    "plt = sep.hist(label = 'All SEP', color = 'blue', density=True,alpha=0.5)\n",
    "\n",
    "sep2013 = dfFloat[dfFloat.Year == 2013]\n",
    "sep2013 = sep2013['SEP']\n",
    "plt = sep2013.hist(label = '2013' , color= 'green', density = True, alpha =0.5)\n",
    "plt.legend(loc = 'upper right')"
   ]
  },
  {
   "cell_type": "markdown",
   "metadata": {},
   "source": [
    "#### e) Calculute the mean and standard deviation of the September precipitation in this set.  Create a Tukey 5 number summary of the September precipitation.  What are a couple of advantages and disadvantages of these numerical summaries compared to each other on this subset of the data?  Why?"
   ]
  },
  {
   "cell_type": "code",
   "execution_count": 306,
   "metadata": {},
   "outputs": [
    {
     "name": "stdout",
     "output_type": "stream",
     "text": [
      "Mean rainfall in September: 1.66 Inches\n",
      "Standard Deviation in September: 2.07\n",
      "\n",
      "\n",
      "Mininum:  0.0\n",
      "First Quartile:  0.56\n",
      "Median:  1.17\n",
      "Third Quartile:  2.23\n",
      "Max:  18.16\n"
     ]
    }
   ],
   "source": [
    "sepMean = sep.mean()\n",
    "print(\"Mean rainfall in September:\" , \"%.2f\" %sepMean , \"Inches\")\n",
    "\n",
    "sepSTD = sep.std()\n",
    "print(\"Standard Deviation in September:\" , \"%.2f\" %sepSTD)\n",
    "print(\"\\n\")\n",
    "\n",
    "print(\"Mininum: \" ,sep.min())\n",
    "print(\"First Quartile: \" , \"%.2f\" %sep.quantile(.25))\n",
    "print(\"Median: \" ,sep.median())\n",
    "print(\"Third Quartile: \",\"%.2f\" %sep.quantile(.75))\n",
    "print(\"Max: \" ,sep.max())"
   ]
  },
  {
   "cell_type": "code",
   "execution_count": null,
   "metadata": {},
   "outputs": [],
   "source": []
  },
  {
   "cell_type": "markdown",
   "metadata": {},
   "source": [
    "**Mean and Standard Deviation**\n",
    "\n",
    "| Advantages | Disadvantages |\n",
    "| --- | --- |\n",
    "| Mean results in everything weighted equally | accounts for outliers, which could throw off mean |\n",
    "| Mean and STD are more important when calculating statistical data (confidence intervals) | doesnt display data as nicely as Tukeys |\n",
    "\n",
    "**Tukey 5-Number**\n",
    "\n",
    "| Advantages | Disadvantages |\n",
    "| --- | --- |\n",
    "| robust to outliers | doesnt use all the data |\n",
    "| provides quartiles | provides data about the range, and not any averages |\n",
    "\n",
    "[Back to top](#top)\n",
    "<a/ id='p6'></a>\n",
    "\n",
    "## (25 pts) Problem 6\n",
    "***\n",
    "In problem 3, we generated an interesting theoretical result and then verified how it worked on a given data set.  Sometimes it's easier to just see what happens on a variety of data than manipulate sums directly!  Consider the following 3 data sets:\n",
    "\n",
    "`A=[0,1,2,3,4,5,6,7,8,9]`\n",
    "\n",
    "`B=[0,0,0,12,7,18,47,25,0,13]`\n",
    "\n",
    "`C` is the random data set generated by using `np.random.randint(0,1000, size=100)`\n",
    "\n",
    "For each data set, perform the following computations:\n",
    "#### a) Compute and print the mean and standard deviation of the data set.\n"
   ]
  },
  {
   "cell_type": "code",
   "execution_count": 387,
   "metadata": {},
   "outputs": [
    {
     "name": "stdout",
     "output_type": "stream",
     "text": [
      "All means and deviations rounded for easy reading (not rounded in an calculations for Q6)\n",
      "A: \n",
      "Mean:  4.50\n",
      "Standard Dev:  2.87\n",
      "B: \n",
      "Mean:  12.20\n",
      "Standard Dev:  14.25\n",
      "C: \n",
      "Mean:  475.13\n",
      "Standard Dev:  278.04\n"
     ]
    }
   ],
   "source": [
    "A=np.array([0,1,2,3,4,5,6,7,8,9])\n",
    "\n",
    "B=np.array([0,0,0,12,7,18,47,25,0,13])\n",
    "\n",
    "C = np.array(np.random.randint(0,1000, size=100))\n",
    "print (\"All means and deviations rounded for easy reading (not rounded in an calculations for Q6)\")\n",
    "print(\"A: \" ) \n",
    "print(\"Mean: \" ,\"%.2f\" %np.mean(A))\n",
    "print (\"Standard Dev: \" ,\"%.2f\" %np.std(A))\n",
    "\n",
    "\n",
    "print(\"B: \" ) \n",
    "print(\"Mean: \" ,\"%.2f\" %np.mean(B))\n",
    "print (\"Standard Dev: \" ,\"%.2f\" %np.std(B))\n",
    "\n",
    "print(\"C: \" ) \n",
    "print(\"Mean: \" ,\"%.2f\" %np.mean(C))\n",
    "print (\"Standard Dev: \" ,\"%.2f\" %np.std(C))\n"
   ]
  },
  {
   "cell_type": "markdown",
   "metadata": {},
   "source": [
    "\n",
    "#### b) Compute and print  the mean and standard deviation of the new data set formed by subtracting the original mean from each observation.\n"
   ]
  },
  {
   "cell_type": "code",
   "execution_count": 388,
   "metadata": {
    "scrolled": true
   },
   "outputs": [
    {
     "name": "stdout",
     "output_type": "stream",
     "text": [
      "NEW CALCULATIONS AFTER SUBTRACTING MEAN\n",
      "IF error: AttributeError: 'list' object has no attribute 'size' , run part A of this question again\n",
      "A: \n",
      "Mean:  0.00\n",
      "Standard Dev:  2.87\n",
      "B: \n",
      "Mean:  0.00\n",
      "Standard Dev:  14.25\n",
      "C: \n",
      "Mean:  0.00\n",
      "Standard Dev:  278.04\n"
     ]
    }
   ],
   "source": [
    "def sub_mean(arr, mean):\n",
    "    tmp = []\n",
    "    count = arr.size\n",
    "    for x in range(0,count):\n",
    "        hold = arr[x] - mean\n",
    "        tmp.append(hold)\n",
    "    arr = tmp\n",
    "    return arr\n",
    "\n",
    "A = sub_mean(A,np.mean(A))\n",
    "B = sub_mean(B, np.mean(B))\n",
    "C = sub_mean(C, np.mean(C))\n",
    "\n",
    "\n",
    "print(\"NEW CALCULATIONS AFTER SUBTRACTING MEAN\")\n",
    "print(\"IF error: AttributeError: 'list' object has no attribute 'size' , run part A of this question again\" )\n",
    "print(\"A: \" ) \n",
    "print(\"Mean: \" ,\"%.2f\" %np.mean(A))\n",
    "print (\"Standard Dev: \" ,\"%.2f\" %np.std(A))\n",
    "\n",
    "\n",
    "print(\"B: \" ) \n",
    "print(\"Mean: \" ,\"%.2f\" %np.mean(B))\n",
    "print (\"Standard Dev: \" ,\"%.2f\" %np.std(B))\n",
    "\n",
    "print(\"C: \" ) \n",
    "print(\"Mean: \" ,\"%.2f\" %np.mean(C))\n",
    "print (\"Standard Dev: \" ,\"%.2f\" %np.std(C))"
   ]
  },
  {
   "cell_type": "markdown",
   "metadata": {},
   "source": [
    "\n",
    "#### c) Compute and print  the mean and standard deviation of the new data set formed by subtracting the original mean from each observation and then dividing by the original standard deviation.\n",
    "\n"
   ]
  },
  {
   "cell_type": "code",
   "execution_count": 392,
   "metadata": {},
   "outputs": [
    {
     "name": "stdout",
     "output_type": "stream",
     "text": [
      "NEW CALCULATIONS AFTER SUBTRACTING MEAN DIVIDING BY STD\n",
      "IF error: AttributeError: 'list' object has no attribute 'size' , run part A of this question again\n",
      "A: \n",
      "Mean:  0.00\n",
      "Standard Dev:  1.00\n",
      "B: \n",
      "Mean:  -0.00\n",
      "Standard Dev:  1.00\n",
      "C: \n",
      "Mean:  0.00\n",
      "Standard Dev:  1.00\n"
     ]
    }
   ],
   "source": [
    "def sub_mean_std(arr, mean, std):\n",
    "    tmp = []\n",
    "    count = len(arr)\n",
    "    for x in range(0,count):\n",
    "        hold = arr[x] - mean\n",
    "        hold = hold / std\n",
    "        tmp.append(hold)\n",
    "    arr = tmp\n",
    "    return arr\n",
    "\n",
    "A = sub_mean_std(A,np.mean(A), np.std(A))\n",
    "B = sub_mean_std(B,np.mean(B), np.std(B))\n",
    "C = sub_mean_std(C,np.mean(C), np.std(C))\n",
    "\n",
    "print(\"NEW CALCULATIONS AFTER SUBTRACTING MEAN DIVIDING BY STD\")\n",
    "#print(\"IF error: AttributeError: 'list' object has no attribute 'size' , run part A of this question again\" )\n",
    "print(\"A: \") \n",
    "print(\"Mean: \" ,\"%.2f\" %np.mean(A))\n",
    "print (\"Standard Dev: \" ,\"%.2f\" %np.std(A))\n",
    "\n",
    "\n",
    "print(\"B: \" ) \n",
    "print(\"Mean: \" ,\"%.2f\" %np.mean(B))\n",
    "print (\"Standard Dev: \" ,\"%.2f\" %np.std(B))\n",
    "\n",
    "print(\"C: \" ) \n",
    "print(\"Mean: \" ,\"%.2f\" %np.mean(C))\n",
    "print (\"Standard Dev: \" ,\"%.2f\" %np.std(C))"
   ]
  },
  {
   "cell_type": "markdown",
   "metadata": {},
   "source": [
    "#### d) Why might this result matter?"
   ]
  },
  {
   "cell_type": "markdown",
   "metadata": {},
   "source": [
    "This is a very interesting result. I would guess we are in a way 'normalizing' the arrays, and thats why the mean ends at zero and standard dev is 1."
   ]
  }
 ],
 "metadata": {
  "kernelspec": {
   "display_name": "Python 3",
   "language": "python",
   "name": "python3"
  },
  "language_info": {
   "codemirror_mode": {
    "name": "ipython",
    "version": 3
   },
   "file_extension": ".py",
   "mimetype": "text/x-python",
   "name": "python",
   "nbconvert_exporter": "python",
   "pygments_lexer": "ipython3",
   "version": "3.6.5"
  }
 },
 "nbformat": 4,
 "nbformat_minor": 2
}
