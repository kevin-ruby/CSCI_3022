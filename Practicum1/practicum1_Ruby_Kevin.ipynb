{
 "cells": [
  {
   "cell_type": "markdown",
   "metadata": {},
   "source": [
    "<a id='top'></a>\n",
    "\n",
    "# CSCI 3022: Intro to Data Science - Fall 2019 Practicum 1\n",
    "***\n",
    "\n",
    "This practicum is due on Canvas by **11:59 PM on Friday October 11**. Your solutions to theoretical questions should be done in Markdown/MathJax directly below the associated question.  Your solutions to computational questions should include any specified Python code and results as well as written commentary on your conclusions.  \n",
    "\n",
    "**Here are the rules:** \n",
    "\n",
    "1. All work, code and analysis, must be your own. \n",
    "1. You may use your course notes, posted lecture slides, textbooks, in-class notebooks, and homework solutions as resources.  You may also search online for answers to general knowledge questions like the form of a probability distribution function or how to perform a particular operation in Python/Pandas. \n",
    "1. This is meant to be like a coding portion of your midterm exam. So, the instructional team will be much less helpful than we typically are with homework. For example, we will not check answers, help debug your code, and so on.\n",
    "1. If something is left open-ended, it is because we want to see how you approach the kinds of problems you will encounter in the wild, where it will not always be clear what sort of tests/methods should be applied. Feel free to ask clarifying questions though.\n",
    "2. You may **NOT** post to message boards or other online resources asking for help.\n",
    "3. You may **NOT** copy-paste solutions *from anywhere*.\n",
    "4. You may **NOT** collaborate with classmates or anyone else.\n",
    "5. In short, **your work must be your own**. It really is that simple.\n",
    "\n",
    "Violation of the above rules will result in an immediate academic sanction (*at the very least*, you will receive a 0 on this practicum or an F in the course, depending on severity), and a trip to the Honor Code Council.\n",
    "\n",
    "**By submitting this assignment, you agree to abide by the rules given above.**\n",
    "\n",
    "***\n",
    "\n",
    "**Name**:  Kevin Ruby\n",
    "\n",
    "***\n",
    "\n",
    "\n",
    "**NOTES**: \n",
    "\n",
    "- You may not use late days on the practicums nor can you drop your practicum grades. \n",
    "- If you have a question for us, post it as a **PRIVATE** message on Piazza.  If we decide that the question is appropriate for the entire class, then we will add it to a Practicum clarifications thread. \n",
    "- Do **NOT** load or use any Python packages that are not available in Anaconda 3.6. \n",
    "- Some problems with code may be autograded.  If we provide a function API **do not** change it.  If we do not provide a function API then you're free to structure your code however you like. \n",
    "- Submit only this Jupyter notebook to Canvas.  Do not compress it using tar, rar, zip, etc. \n",
    "- This should go without saying, but... For any question that asks you to calculate something, you **must show all work to receive credit**. Sparse or nonexistent work will receive sparse or nonexistent credit.\n",
    "\n",
    "---\n",
    "**Shortcuts:**  [Problem 1](#p1) | [Problem 2](#p2) | [Problem 3](#p3) |[Bottom](#bot)\n",
    "\n",
    "---"
   ]
  },
  {
   "cell_type": "code",
   "execution_count": 188,
   "metadata": {},
   "outputs": [],
   "source": [
    "from scipy import stats\n",
    "from random import randint\n",
    "import random\n",
    "import math\n",
    "from scipy.special import binom\n",
    "import numpy as np \n",
    "import pandas as pd\n",
    "import matplotlib.pyplot as plt\n",
    "%matplotlib inline"
   ]
  },
  {
   "cell_type": "markdown",
   "metadata": {},
   "source": [
    "<br>\n",
    "\n",
    "---\n",
    "[Back to top](#top)\n",
    "<a id='p1'></a>\n",
    "\n",
    "### [30 points] Problem 1: Rubber Ducky Race"
   ]
  },
  {
   "cell_type": "markdown",
   "metadata": {},
   "source": [
    "Every year, the Aspen Valley Rotary Club hosts a [rubber ducky race](https://www.aspenrotary.org/page/the-ducky-derby). Each Rubber Ducky is stamped with a number, tickets are sold  and if your ducky makes it to the end of the course first, you win. Exact Rules follow:\n",
    "\n",
    "1. The Rotary Club sells \"Duck Adoption\" papers. Only Ducks that have been adopted start the race, so there must always be a winner.\n",
    "2. The ducks are dumped into a river and race to a finish line. The adoptive parent of the first duck across the line wins. The standard prize is 15,000 dollars.\n",
    "3. Before the start of the duck race, the Rotary Club randomly draws a number of special ducks. For every 3,333 ducks that start the race, 1 special duck is drawn.\n",
    "4. If a special duck wins the race the prize is increased from 15,000 dollars to 1,000,000 dollars.\n",
    "\n",
    "**Assume that all ducks are equally likely to win the ducky race.**"
   ]
  },
  {
   "cell_type": "markdown",
   "metadata": {},
   "source": [
    "**Part A:**\n",
    "Given that 9999 ducks start the race and you purchase 1 duck, calculate the probability by hand that your duck is selected as a special ducky."
   ]
  },
  {
   "cell_type": "markdown",
   "metadata": {},
   "source": [
    "$\\frac{1}{3333}$"
   ]
  },
  {
   "cell_type": "markdown",
   "metadata": {},
   "source": [
    "**Part B:** Calculate the probability that the rotary club pays out the million dollar prize."
   ]
  },
  {
   "cell_type": "markdown",
   "metadata": {},
   "source": [
    "$\\frac{3-special-ducks}{9999-total-ducks}$"
   ]
  },
  {
   "cell_type": "markdown",
   "metadata": {},
   "source": [
    "**Part C:** Calculate the probability that your duck is both picked as a special duck and wins the race."
   ]
  },
  {
   "cell_type": "markdown",
   "metadata": {},
   "source": [
    "- P(SD) = probability of a special ducky\n",
    "- P(WD) = probability a duck wins the race\n",
    "- P(SD) = $\\frac{1}{3333}$\n",
    "- P(WD) = $\\frac{1}{9999}$\n",
    "\n",
    "P(SD $\\cap$ WD) = P(SD) * P(WD) = $\\frac{1}{33326667}$"
   ]
  },
  {
   "cell_type": "markdown",
   "metadata": {},
   "source": [
    "**Part D:** Calculate the expected payout for the Rotary Club for a 9999 duck race. "
   ]
  },
  {
   "cell_type": "markdown",
   "metadata": {},
   "source": [
    "$\\frac{3}{9999} * (1000000) + \\frac{9996}{9999} *(15000) = $ $15295.5 "
   ]
  },
  {
   "cell_type": "markdown",
   "metadata": {},
   "source": [
    "**Part E:** The Rotary Club takes out an insurance policy on having to pay the 1,000,000 dollar prize. They pay $50 per duck race to the insurance company. From your answer above, is this worth it? Explain. Is there any number of ducks that make the insurance policy a good deal? If it is not worth it, what's a reason the the Rotary Club might buy the policy anyways? "
   ]
  },
  {
   "cell_type": "markdown",
   "metadata": {},
   "source": [
    "ASSUMING 500 $ BASED ON PIAZZA POST!!!!!!"
   ]
  },
  {
   "cell_type": "markdown",
   "metadata": {},
   "source": [
    "I dont think its a good deal. The probability of a paying out the million dollar prize is extremely low, spending 500 dollars on this just does not seem like a good investment. Number of ducks shouldnt change this answer because they are paying per race and not per duck. I get why they would pay it, and thats because paying 500 dollars per year is nothing compared to having to pay out the million dollar prize. "
   ]
  },
  {
   "cell_type": "markdown",
   "metadata": {},
   "source": [
    "**Part F:** Write a python function that simulates a single duck race. It should use the api below and the class written for you. DO NOT CHANGE THE API OR THE ENUMERATED CLASS. The function should take the number of ducks that start the race in as a parameter, and return a tuple of the duck's number that won, and the type of winner that duck was. \n",
    "\n",
    "[E.g. (1522, <Types_Of_Winner.REGULAR: 0>) ] \n",
    "\n",
    "The duck numbers start at 1 and go until the number passed in (Eg. For 500 ducks, the ducks are numbered 1 to 500. No Duck is numbered 0)."
   ]
  },
  {
   "cell_type": "code",
   "execution_count": 14,
   "metadata": {},
   "outputs": [
    {
     "name": "stdout",
     "output_type": "stream",
     "text": [
      "(858, <Types_Of_Winner.REGULAR: 0>)\n"
     ]
    }
   ],
   "source": [
    "from enum import Enum\n",
    "#Dont change this. You should return a tuple of (int, Type_Of_Winner) in the function below. \n",
    "#The type of winner should be from this class. The int should represent the duck number of the winning duck.\n",
    "#If you want more info about Enumerated Types in python: https://docs.python.org/3/library/enum.html\n",
    "class Types_Of_Winner(Enum):\n",
    "    REGULAR = 0\n",
    "    SPECIAL = 1\n",
    "\n",
    "#don't change this api. We will use a set of unit tests to test this. \n",
    "#This uses a default parameter. If you are unfamiliar with default parameters: \n",
    "#https://www.geeksforgeeks.org/default-arguments-in-python/ \n",
    "#Don't change the default parameter.\n",
    "def rubber_Ducky_Race(number_Of_Ducks=3333):\n",
    "    #YOUR IMPLEMENTATION HERE\n",
    "    #Change the below to simulate a duck race.\n",
    "    winning_Duck_Number = random.randint(1,number_Of_Ducks+1)\n",
    "    \n",
    "    type_random = random.randint(1,3334)\n",
    "    #1 in 3333 chance this number is 9\n",
    "    if type_random == 9:\n",
    "        type_Of_Winner = Types_Of_Winner.SPECIAL\n",
    "    else:\n",
    "        type_Of_Winner = Types_Of_Winner.REGULAR\n",
    "    \n",
    "    #you can change the variable names, but must return tuple of type (int, Types_Of_Winner)\n",
    "#     print(winning_Duck_Number, type_Of_Winner)\n",
    "    return (winning_Duck_Number, type_Of_Winner)\n",
    "    \n",
    "    \n",
    "    \n",
    "    \n",
    "print(rubber_Ducky_Race())"
   ]
  },
  {
   "cell_type": "markdown",
   "metadata": {},
   "source": []
  },
  {
   "cell_type": "markdown",
   "metadata": {},
   "source": [
    "**Part G:** Write a python function that takes in a number of duck races (num_Duck_Races) and a number of ducks per race (num_Ducks_Per_Race). The function should run the function you wrote in part F by passing the number of ducks to the function from part F. It should run the function from part F num_Duck_Races times, and record all the results. It then should calculate the amount of money the rotary club paid out in each race and return a list of the rotary club's payouts (integer values of dollars paid out). Don't change the API as we will be auto grading this."
   ]
  },
  {
   "cell_type": "code",
   "execution_count": 45,
   "metadata": {},
   "outputs": [
    {
     "name": "stdout",
     "output_type": "stream",
     "text": [
      "[15000, 15000, 15000, 15000, 15000, 15000, 15000, 15000, 15000, 15000, 15000, 15000, 15000, 15000, 15000]\n"
     ]
    }
   ],
   "source": [
    "#Don't change this api. Use the parameters passed in in your implemenation of this function.\n",
    "def run_Simulation_Duck_Race(num_Duck_Races, num_Ducks_Per_Race):\n",
    "    #IMPLEMENTATION HERE\n",
    "    payout = []\n",
    "    for x in range(num_Duck_Races):\n",
    "        dk_num,typ_win = rubber_Ducky_Race(num_Ducks_Per_Race)\n",
    "        if typ_win == Types_Of_Winner.SPECIAL:\n",
    "            payout.append(1000000)\n",
    "        else:\n",
    "            payout.append(15000)\n",
    "        \n",
    "    #CHANGE RETURN VALUE TO BE LIST OF PAYOUTS FROM YOUR CODE IMPLEMENTED IN THIS FUNCTION\n",
    "    return payout\n",
    "\n",
    "print (run_Simulation_Duck_Race(15,3333))"
   ]
  },
  {
   "cell_type": "markdown",
   "metadata": {},
   "source": []
  },
  {
   "cell_type": "markdown",
   "metadata": {},
   "source": [
    "**Part H:** Run the simulation function you made in part G 50 times for 1111 duck races each with 3333 ducks per race. Calculate the mean of each list of payouts returned by your function from part F and plot the mean payout values on a histogram. We recommend using the default bins argument here (don't pass it in). Make sure to make your histogram legible, label the plot, and label the x and the y axes (with their units). Do this all in one cell and run the cell a few times and see what different histograms are generated from the simulations. When you find one with three distinct \"bars\" leave it in the output of the cell. Explain why this histogram makes sense. Your answer here should talk about what each distinct \"bar\" in the histogram represents, the probabiity that the rotary club pays out the million dollar prize, and the number of races in each simulation. "
   ]
  },
  {
   "cell_type": "code",
   "execution_count": 33,
   "metadata": {},
   "outputs": [
    {
     "name": "stdout",
     "output_type": "stream",
     "text": [
      "[15000.0, 15886.588658865887, 15000.0, 15000.0, 15000.0, 15000.0, 15886.588658865887, 15886.588658865887, 15886.588658865887, 15000.0, 15000.0, 15000.0, 15000.0, 15000.0, 15000.0, 15000.0, 15000.0, 15000.0, 15000.0, 15000.0, 15000.0, 15000.0, 15886.588658865887, 15000.0, 15886.588658865887, 15886.588658865887, 15886.588658865887, 15000.0, 15886.588658865887, 15000.0, 15886.588658865887, 16773.177317731774, 15000.0, 15000.0, 15000.0, 15886.588658865887, 15000.0, 15886.588658865887, 15000.0, 15000.0, 15000.0, 15000.0, 15000.0, 15886.588658865887, 15000.0, 15000.0, 15886.588658865887, 15000.0, 15000.0, 15886.588658865887]\n"
     ]
    },
    {
     "data": {
      "image/png": "[encoded data removed]",
      "text/plain": [
       "<Figure size 432x288 with 1 Axes>"
      ]
     },
     "metadata": {},
     "output_type": "display_data"
    }
   ],
   "source": [
    "hold = []\n",
    "means = []\n",
    "for x in range (50):\n",
    "    hold.clear()\n",
    "    hold = run_Simulation_Duck_Race(1111,3333)\n",
    "    avg = sum(hold)/ len(hold)\n",
    "    means.append(avg)\n",
    "\n",
    "plt.hist(means)\n",
    "\n",
    "print (means)"
   ]
  },
  {
   "cell_type": "markdown",
   "metadata": {},
   "source": [
    "**Part I:** Pick a lucky number in between 1 and 7000 and run your function from part F 25000 times with 7,000 ducks. Capture all the results and find the number of times your duck won! Was your duck ever a winner or even a special Million Dollar Winner?"
   ]
  },
  {
   "cell_type": "code",
   "execution_count": 81,
   "metadata": {},
   "outputs": [
    {
     "name": "stdout",
     "output_type": "stream",
     "text": [
      "My duck won 4 times out of 25000\n",
      "My duck was a special duck 11 times out of 25000\n"
     ]
    }
   ],
   "source": [
    "myduck=0;\n",
    "special_count = 0\n",
    "mill = 0\n",
    "#change this for number of races\n",
    "numRaces = 25000\n",
    "\n",
    "\n",
    "for x in range (numRaces):\n",
    "    duck,spec = rubber_Ducky_Race(7000)\n",
    "    if duck ==6969 and spec == Types_Of_Winner.SPECIAL:\n",
    "        mill += 1\n",
    "    if duck == 6969:\n",
    "        myduck += 1\n",
    "    if spec == Types_Of_Winner.SPECIAL:\n",
    "        special_count += 1\n",
    "\n",
    "\n",
    "print (\"My duck won\" , myduck , \"times out of\", numRaces)\n",
    "print (\"My duck was a special duck\" , special_count , \"times out of\",numRaces)\n",
    "if mill != 0:\n",
    "    print (\"YOU ONE A MILLION DOLLARS!!!\")\n",
    "\n",
    "    "
   ]
  },
  {
   "cell_type": "markdown",
   "metadata": {},
   "source": []
  },
  {
   "cell_type": "markdown",
   "metadata": {},
   "source": [
    "<br>\n",
    "\n",
    "---\n",
    "[Back to top](#top)\n",
    "<a id='p2'></a>\n",
    "\n",
    "### [20 points] Problem 2: Tax Fraud\n",
    "\n",
    "Let $X =$ the leading digit of a randomly selected number from a large accounting ledger. So, for example, if we randomly draw the number $\\$20,695$, then $X = 2$. People who make up numbers to commit accounting fraud tend to give $X$ a (discrete) uniform distribution, i.e., $P(X = x) = 1/9$, for $x \\in \\{1,...,9\\}$. However, there is empirical evidence that suggests that \"naturally occurring\" numbers (e.g., numbers in a non-fraudulent accounting ledger) have leading digits that do not follow a uniform distribution. Instead, they follow a distribution defined by:\n",
    "\n",
    "\\begin{align*}\n",
    "f(x) = \\log_{10}\\bigg(\\frac{x+1}{x}\\bigg), \\,\\,\\,\\, x = 1,2,...,9.\n",
    "\\end{align*} \n",
    "\n",
    "Using ${\\tt tax.txt}$, a dataset containing the taxable incomes for individuals in 1978, we will decide whether this dataset is fraudulent. \n",
    "\n",
    "\n",
    "\n",
    "**Part A**:  Read in the data and create a variable that holds only the character of each data point."
   ]
  },
  {
   "cell_type": "code",
   "execution_count": 229,
   "metadata": {},
   "outputs": [],
   "source": [
    "df = pd.read_csv(\"tax.txt\" , sep='\\t')\n",
    "fullNum = df.values.tolist()\n",
    "df.head()\n",
    "#print(fullNum)\n",
    "numbers = []\n",
    "for x in fullNum:\n",
    "    num = x[0]\n",
    "    #print (z)\n",
    "    k = str(num)\n",
    "    #print (k)\n",
    "    firstNum = k[:1]\n",
    "    n = int(firstNum)\n",
    "    if n!= 0:\n",
    "        numbers.append(n)\n",
    "    #print(firstNum)\n",
    "    \n",
    "#(numbers)"
   ]
  },
  {
   "cell_type": "markdown",
   "metadata": {},
   "source": []
  },
  {
   "cell_type": "markdown",
   "metadata": {},
   "source": [
    "**Part B**: Create a histogram of the data that also plots or overlays the suggested non-fradulent density $f(x)$ as well as the density of the discrete uniform over the same support."
   ]
  },
  {
   "cell_type": "code",
   "execution_count": 230,
   "metadata": {},
   "outputs": [
    {
     "data": {
      "image/png": "[encoded data removed]",
      "text/plain": [
       "<Figure size 432x288 with 1 Axes>"
      ]
     },
     "metadata": {},
     "output_type": "display_data"
    }
   ],
   "source": [
    "fake = []\n",
    "logData = []\n",
    "ran = range(1,10)\n",
    "for x in ran:\n",
    "    ans = math.log10((x+1)/x)\n",
    "    logData.append(ans)\n",
    "    \n",
    "npLogData = np.array(logData)\n",
    "toPlotLog = np.random.choice(ran,size = len(numbers), replace=True, p = npLogData)\n",
    "\n",
    "fakers = np.random.choice(ran,size = len(numbers))\n",
    "\n",
    "\n",
    "plt.hist(fakers,bins = 9,density=True,alpha = .5,label = 'Fake')\n",
    "plt.hist(toPlotLog,bins = 9,density=True,alpha = .5,label = 'Naturally Occuring')\n",
    "plt.hist(numbers,bins=9,density=True,alpha = .5,label = 'Our data')\n",
    "plt.legend(loc = 'upper right')\n",
    "plt.show()"
   ]
  },
  {
   "cell_type": "markdown",
   "metadata": {},
   "source": [
    "NOTE:::I removed the \"0\" data points, as it did not line up with what we are looking for..."
   ]
  },
  {
   "cell_type": "markdown",
   "metadata": {},
   "source": [
    "**Part C**: Does it appear as those the data is fraudulent, not fraudulent, or too hard to tell?  What kind of numerical measures could you use to support such a conclusion?"
   ]
  },
  {
   "cell_type": "markdown",
   "metadata": {},
   "source": [
    "It is very clear from this histogram that our data from 1978 follows the naturally occuring (LOG) data. I can conclude based on my histogram that our data is not fradulent. "
   ]
  },
  {
   "cell_type": "markdown",
   "metadata": {},
   "source": [
    "**Part D**: Create a new object that stores only the first digit of the first 100 distinct powers of 2, e.g. $Y=[2, 2^2, 2^3, 2^4, \\dots ]$.  Repeat steps a) and b) for this new data set, plotting the distribution of the first digit of terms in $Y$ against $f(x)$."
   ]
  },
  {
   "cell_type": "code",
   "execution_count": 231,
   "metadata": {},
   "outputs": [
    {
     "data": {
      "image/png": "[encoded data removed]",
      "text/plain": [
       "<Figure size 432x288 with 1 Axes>"
      ]
     },
     "metadata": {},
     "output_type": "display_data"
    }
   ],
   "source": [
    "d_arr = []\n",
    "for x in range (1,100):\n",
    "    num = 2**x\n",
    "    string = str(num)\n",
    "    string = string[:1]\n",
    "    num = int(string)\n",
    "    d_arr.append(num)\n",
    "#print (d_arr)\n",
    "\n",
    "d_arr_np = np.array(d_arr)\n",
    "#plt.hist(fakers,bins = 9,density=True,alpha = .5,label = 'Fake')\n",
    "plt.hist(toPlotLog,bins = 9,density=True,alpha = .5,label = 'Naturally Occuring')\n",
    "plt.hist(d_arr_np,bins = 9,density=True,alpha = .3,label = 'Altered Data (2^n)')\n",
    "plt.legend(loc = 'upper right')\n",
    "plt.show()"
   ]
  },
  {
   "cell_type": "markdown",
   "metadata": {},
   "source": [
    "As you can see, this data is very similar."
   ]
  },
  {
   "cell_type": "markdown",
   "metadata": {},
   "source": [
    "<br>\n",
    "\n",
    "---\n",
    "[Back to top](#top)\n",
    "<a id='p3'></a>\n",
    "\n",
    "### [30 points] Problem 3: Poker\n",
    "\n",
    "It's time to play poker.  (https://en.wikipedia.org/wiki/Texas_hold_%27em#Hand_values) Assume that we are using a standard deck of cards without jokers (52 cards). For each round, you will be dealt 5 cards from the deck without replacement. There are several different types of hands that can be dealt; listed below are a few of interest: \n",
    "\n",
    "- Highcard (Simple value of the card. Lowest: 2 - Highest: Ace)\n",
    "- Pair (Two cards with the same value)\n",
    "- Two pair (Twice two cards with the same value)\n",
    "- Three of a kind (Three cards with the same value)\n",
    "- Straight (Sequence of 5 cards in increasing value, Ace can only follow K)\n",
    "- Four of a kind (Four cards with the same value)\n",
    "- Full house (Three of a kind and a pair)\n",
    "- Flush (5 cards of the same suit)"
   ]
  },
  {
   "cell_type": "markdown",
   "metadata": {},
   "source": [
    "**Part A**: What is the exact probability you get at least a Pair in your 5 cards? What is the probability of getting a Full House?  (Note that we're including pairs as a subset of a full house, here)"
   ]
  },
  {
   "cell_type": "markdown",
   "metadata": {},
   "source": [
    "PAIR\n",
    "- ${13 \\choose 1}$  :  for selecting one number\n",
    "- ${4 \\choose 2}$  :  these cards will have two different suits..\n",
    "- ${50 \\choose 3}$  :  other cards can be anything \n",
    "\n",
    "- \n",
    "- multiply all these together and we get 1,098,240. This is the total ways we can have a two pair in our hand..\n",
    "- ${52 \\choose 3}$ the number of ways to pick a five card hand.\n",
    "- \n",
    "- $\\frac{1528800}{2598960}$ = 0.5871 : probability of at least a pair in hand. This overcounts because this will count two pairs, three of  kind, four of a kind, and full house.\n",
    "\n",
    "FULL HOUSE\n",
    "\n",
    "- ${13 \\choose 1}$  :  for selecting one number of the cards\n",
    "- ${4 \\choose 3}$  :  these cards will have three different suits..\n",
    "- ${12 \\choose 1}$  :  other cards in hand must be different than already selected number, and must be the same.\n",
    "- ${4 \\choose 2}$  :  two remaining suits\n",
    "\n",
    "- \n",
    "- multiply all these together and we get 3744. This is the total ways we can have a full house in hand..\n",
    "- ${52 \\choose 5}$ the number of ways to pick a five card hand.\n",
    "- \n",
    "- $\\frac{3744}{2598960}$ = 0.0014 : probability of full house in hand\n"
   ]
  },
  {
   "cell_type": "markdown",
   "metadata": {},
   "source": [
    "**Part B**: Write a function `getCards()` to randomly generate 5 cards from the no-joker deck. This function should return an array of 5 cards."
   ]
  },
  {
   "cell_type": "markdown",
   "metadata": {},
   "source": []
  },
  {
   "cell_type": "code",
   "execution_count": 232,
   "metadata": {},
   "outputs": [
    {
     "name": "stdout",
     "output_type": "stream",
     "text": [
      "['3C', 'QC', '4H', '8D', '7H']\n"
     ]
    }
   ],
   "source": [
    "def getCards():\n",
    "    diamonds = ['2D','3D','4D','5D','6D','7D','8D','9D','10D','JD','QD','KD','AD']\n",
    "    spades = ['2S','3S','4S','5S','6S','7S','8S','9S','10S','JS','QS','KS','AS']\n",
    "    hearts = ['2H','3H','4H','5H','6H','7H','8H','9H','10H','JH','QH','KH','AH']\n",
    "    clubs = ['2C','3C','4C','5C','6C','7C','8C','9C','10C','JC','QC','KC','AC']\n",
    "    \n",
    "    deck_this_turn = diamonds + spades + hearts + clubs\n",
    "    hand = []\n",
    "    for x in range (5):\n",
    "        choice = random.choice(deck_this_turn)\n",
    "        hand.append(choice)\n",
    "        deck_this_turn.remove(choice)\n",
    "        \n",
    "    return hand\n",
    "print(getCards())"
   ]
  },
  {
   "cell_type": "markdown",
   "metadata": {},
   "source": [
    "**Part C**: Run the `getCards()` simulation 10000 times, and store the result in an array named `card_array`."
   ]
  },
  {
   "cell_type": "code",
   "execution_count": 233,
   "metadata": {
    "scrolled": false
   },
   "outputs": [],
   "source": [
    "card_array = []\n",
    "for x in range (10000):\n",
    "    card_array.append(getCards())\n",
    "\n",
    "#(card_array)"
   ]
  },
  {
   "cell_type": "markdown",
   "metadata": {},
   "source": [
    "**Part D**: Write a function `pair(card_array, num_sim)` For the 10000 simulations we did in Part C, what is the probability of have Pair? Does the result agree with your calculation in Part A?"
   ]
  },
  {
   "cell_type": "markdown",
   "metadata": {},
   "source": [
    "probability of at least a pair in hand. This overcounts because this will count two pairs, three of  kind, four of a kind, and full house."
   ]
  },
  {
   "cell_type": "code",
   "execution_count": 234,
   "metadata": {},
   "outputs": [
    {
     "name": "stdout",
     "output_type": "stream",
     "text": [
      "probability of at least 1 pair:  0.5601\n"
     ]
    }
   ],
   "source": [
    "def pair(card_array, num_sim):\n",
    "    pairs = 0\n",
    "    thru = 0 \n",
    "    for x in range (num_sim):\n",
    "        listholder = card_array[x]\n",
    "        seen = set()\n",
    "        for y in listholder:\n",
    "            card = y[:-1]\n",
    "            #print(card)\n",
    "            if card in seen: \n",
    "                pairs +=1 \n",
    "            seen.add(card)\n",
    "    return pairs\n",
    "\n",
    "print(\"probability of at least 1 pair: \",pair(card_array,10000) / 10000)\n",
    "        \n",
    "        "
   ]
  },
  {
   "cell_type": "markdown",
   "metadata": {},
   "source": [
    "This does agree with my result from above.\n"
   ]
  },
  {
   "cell_type": "markdown",
   "metadata": {},
   "source": [
    "**Part E:** Write a function `fullhouse(card_array, num_sim)` For the 10000 simulations we did in Part C, what is the probability of having a Full House? Does the result agree with your calculation in Part A?"
   ]
  },
  {
   "cell_type": "code",
   "execution_count": 235,
   "metadata": {
    "scrolled": false
   },
   "outputs": [
    {
     "name": "stdout",
     "output_type": "stream",
     "text": [
      "Probability of a Full House:  0.0024\n"
     ]
    }
   ],
   "source": [
    "# card_array = [['7C', '4S', '3C', '10S', '5C'],\n",
    "#               ['8H', '8H', '8D', '2S', '2H'],\n",
    "#               ['7D', '9D', '9H', '7D', '7S'],\n",
    "#               ['2D', '2C', '3C', '3H', '3C'],\n",
    "#               ['3D', '6S', 'AH', '9H', 'JD'],\n",
    "#               ['JH', 'KS', 'KS', 'KS', 'JC'],\n",
    "#               ['5H', '7S', 'JS', 'AH', 'QH'],\n",
    "#               ['AD', 'AS', 'AH', 'AD', '3H'],\n",
    "#               ['4C', '5D', '4S', '4S', '5S']\n",
    "#              ]\n",
    "\n",
    "def fullhouse(card_array,num_sim):\n",
    "    two = False\n",
    "    three = False\n",
    "    fullHouse = 0\n",
    "    for x in range (num_sim):\n",
    "        narray = []\n",
    "        listholder = card_array[x]\n",
    "        for y in listholder:\n",
    "            card = y[:-1]\n",
    "            #print(card)\n",
    "            narray.append(card)\n",
    "        #print(narray)\n",
    "        \n",
    "        \n",
    "        first = narray[0]\n",
    "        #print (first)\n",
    "        narray = [k for k in narray if k!= first]\n",
    "        #print (narray)\n",
    "        \n",
    "        first2 = narray[0]\n",
    "        if (len(narray) != 1):\n",
    "            narray = [r for r in narray if r!= first2]\n",
    "        #print (narray)\n",
    "\n",
    "        if (len(narray) == 0):\n",
    "            fullHouse += 1\n",
    "        \n",
    "    return fullHouse\n",
    "\n",
    "print(\"Probability of a Full House: \",fullhouse(card_array,10000)/10000)"
   ]
  },
  {
   "cell_type": "markdown",
   "metadata": {},
   "source": [
    "Yes, the probability I got from my code simulations is the same as my calculations done by hand."
   ]
  },
  {
   "cell_type": "code",
   "execution_count": null,
   "metadata": {},
   "outputs": [],
   "source": []
  },
  {
   "cell_type": "code",
   "execution_count": null,
   "metadata": {},
   "outputs": [],
   "source": []
  }
 ],
 "metadata": {
  "kernelspec": {
   "display_name": "Python 3",
   "language": "python",
   "name": "python3"
  },
  "language_info": {
   "codemirror_mode": {
    "name": "ipython",
    "version": 3
   },
   "file_extension": ".py",
   "mimetype": "text/x-python",
   "name": "python",
   "nbconvert_exporter": "python",
   "pygments_lexer": "ipython3",
   "version": "3.6.5"
  }
 },
 "nbformat": 4,
 "nbformat_minor": 2
}
